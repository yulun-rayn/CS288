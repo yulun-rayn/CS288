{
  "metadata": {
    "kernelspec": {
      "language": "python",
      "display_name": "Python 3",
      "name": "python3"
    },
    "language_info": {
      "pygments_lexer": "ipython3",
      "nbconvert_exporter": "python",
      "version": "3.6.4",
      "file_extension": ".py",
      "codemirror_mode": {
        "name": "ipython",
        "version": 3
      },
      "name": "python",
      "mimetype": "text/x-python"
    },
    "colab": {
      "provenance": []
    }
  },
  "nbformat_minor": 0,
  "nbformat": 4,
  "cells": [
    {
      "cell_type": "markdown",
      "source": [
        "# HW2B: Neural Machine Translation"
      ],
      "metadata": {
        "id": "CeUOYktpXtOz"
      }
    },
    {
      "cell_type": "markdown",
      "source": [
        "In this project, you will build a neural machine translation system using modern techniques for sequence-to-sequence modeling. You will first implement a baseline encoder-decoder architecture, then improve upon the baseline by adding an attention mechanism. The end result will be a fully functional translation system capable of translating simple German sentences into English."
      ],
      "metadata": {
        "id": "35m1Uv47jiNX"
      }
    },
    {
      "cell_type": "markdown",
      "source": [
        "## Setup"
      ],
      "metadata": {
        "id": "acPh_4GwYID0"
      }
    },
    {
      "cell_type": "markdown",
      "source": [
        "First we install and import the required dependencies. These include:\n",
        "* `torch` for modeling and training\n",
        "* `torchtext` for data collection\n",
        "* `sentencepiece` for subword tokenization\n",
        "* `sacrebleu` for BLEU score evaluation"
      ],
      "metadata": {
        "id": "c7cggO7mjZ5L"
      }
    },
    {
      "cell_type": "code",
      "source": [
        "%%capture\n",
        "!pip install --upgrade sacrebleu sentencepiece\n",
        "!pip install torchtext==0.8.1\n",
        "\n",
        "# Standard library imports\n",
        "import json\n",
        "import math\n",
        "import random\n",
        "import pdb\n",
        "\n",
        "# Third party imports\n",
        "import matplotlib.pyplot as plt\n",
        "import numpy as np\n",
        "import sacrebleu\n",
        "import sentencepiece\n",
        "import torch\n",
        "import torch.nn as nn\n",
        "import torch.nn.functional as F\n",
        "import torchtext\n",
        "import tqdm.notebook"
      ],
      "metadata": {
        "id": "4LV8KY6_unfe",
        "execution": {
          "iopub.status.busy": "2022-02-11T16:53:01.678565Z",
          "iopub.execute_input": "2022-02-11T16:53:01.679089Z",
          "iopub.status.idle": "2022-02-11T16:54:21.861135Z",
          "shell.execute_reply.started": "2022-02-11T16:53:01.679051Z",
          "shell.execute_reply": "2022-02-11T16:54:21.860352Z"
        },
        "trusted": true
      },
      "execution_count": null,
      "outputs": []
    },
    {
      "cell_type": "markdown",
      "source": [
        "Before proceeding, let's verify that we're connected to a GPU runtime and that `torch` can detect the GPU.\n",
        "We'll define a variable `device` here to use throughout the code so that we can easily change to run on CPU for debugging."
      ],
      "metadata": {
        "id": "KNT_TURTwIlW"
      }
    },
    {
      "cell_type": "code",
      "source": [
        "assert torch.cuda.is_available()\n",
        "device = torch.device(\"cuda\")\n",
        "print(\"Using device:\", device)"
      ],
      "metadata": {
        "id": "KYpIPtqtwVwh",
        "execution": {
          "iopub.status.busy": "2022-02-11T16:54:34.535901Z",
          "iopub.execute_input": "2022-02-11T16:54:34.536647Z",
          "iopub.status.idle": "2022-02-11T16:54:34.583444Z",
          "shell.execute_reply.started": "2022-02-11T16:54:34.536609Z",
          "shell.execute_reply": "2022-02-11T16:54:34.582646Z"
        },
        "trusted": true
      },
      "execution_count": null,
      "outputs": []
    },
    {
      "cell_type": "markdown",
      "source": [
        "## Data"
      ],
      "metadata": {
        "id": "ANK-5cMtYSyH"
      }
    },
    {
      "cell_type": "markdown",
      "source": [
        "The data for this assignment comes from the [Multi30K dataset](https://arxiv.org/abs/1605.00459), which contains English and German captions for images from Flickr. We can download and unpack it using `torchtext`. We use the Multi30K dataset because it is simpler than standard translation benchmark datasets and allows for models to be trained and evaluated in a matter of minutes rather than days.\n",
        "\n",
        "We will be translating from German to English in this assignment, but the same techniques apply equally well to any language pair.\n",
        "\n"
      ],
      "metadata": {
        "id": "We4sTUA5j0Ab"
      }
    },
    {
      "cell_type": "code",
      "source": [
        "extensions = [\".de\", \".en\"]\n",
        "source_field = torchtext.data.Field(tokenize=lambda x: x)\n",
        "target_field = torchtext.data.Field(tokenize=lambda x: x)\n",
        "training_data, validation_data, test_data = torchtext.datasets.Multi30k.splits(\n",
        "    extensions, [source_field, target_field], root=\".\")"
      ],
      "metadata": {
        "id": "Gr9PbArCvCT0",
        "execution": {
          "iopub.status.busy": "2022-02-11T16:54:37.994812Z",
          "iopub.execute_input": "2022-02-11T16:54:37.995552Z",
          "iopub.status.idle": "2022-02-11T16:54:40.102687Z",
          "shell.execute_reply.started": "2022-02-11T16:54:37.995514Z",
          "shell.execute_reply": "2022-02-11T16:54:40.101989Z"
        },
        "trusted": true
      },
      "execution_count": null,
      "outputs": []
    },
    {
      "cell_type": "markdown",
      "source": [
        "Now that we have the data, let's see how large each split is and look at a few examples."
      ],
      "metadata": {
        "id": "v4aSFr-hmKpw"
      }
    },
    {
      "cell_type": "code",
      "source": [
        "print(\"Number of training examples:\", len(training_data))\n",
        "print(\"Number of validation examples:\", len(validation_data))\n",
        "print(\"Number of test examples:\", len(test_data))\n",
        "print()\n",
        "\n",
        "for example in training_data[:10]:\n",
        "  print(example.src)\n",
        "  print(example.trg)\n",
        "  print()"
      ],
      "metadata": {
        "id": "W1owrfI1xjby",
        "execution": {
          "iopub.status.busy": "2022-02-11T16:54:43.284983Z",
          "iopub.execute_input": "2022-02-11T16:54:43.285455Z",
          "iopub.status.idle": "2022-02-11T16:54:43.296962Z",
          "shell.execute_reply.started": "2022-02-11T16:54:43.285417Z",
          "shell.execute_reply": "2022-02-11T16:54:43.295754Z"
        },
        "trusted": true
      },
      "execution_count": null,
      "outputs": []
    },
    {
      "cell_type": "markdown",
      "source": [
        "## Vocabulary"
      ],
      "metadata": {
        "id": "k1aBbR3snOjV"
      }
    },
    {
      "cell_type": "markdown",
      "source": [
        "We can use `sentencepiece` to create a joint German-English subword vocabulary from the training corpus. Because the number of training examples is small, we choose a smaller vocabulary size than would be used for large-scale NMT."
      ],
      "metadata": {
        "id": "5Mo0tnIbnQz8"
      }
    },
    {
      "cell_type": "code",
      "source": [
        "args = {\n",
        "    \"pad_id\": 0,\n",
        "    \"bos_id\": 1,\n",
        "    \"eos_id\": 2,\n",
        "    \"unk_id\": 3,\n",
        "    \"input\": \"multi30k/train.de,multi30k/train.en\",\n",
        "    \"vocab_size\": 8000,\n",
        "    \"model_prefix\": \"multi30k\",\n",
        "}\n",
        "combined_args = \" \".join(\n",
        "    \"--{}={}\".format(key, value) for key, value in args.items())\n",
        "sentencepiece.SentencePieceTrainer.Train(combined_args)"
      ],
      "metadata": {
        "id": "8xSUaso9vo1V",
        "execution": {
          "iopub.status.busy": "2022-02-11T16:54:57.40918Z",
          "iopub.execute_input": "2022-02-11T16:54:57.410711Z",
          "iopub.status.idle": "2022-02-11T16:55:02.186524Z",
          "shell.execute_reply.started": "2022-02-11T16:54:57.410677Z",
          "shell.execute_reply": "2022-02-11T16:55:02.185532Z"
        },
        "trusted": true
      },
      "execution_count": null,
      "outputs": []
    },
    {
      "cell_type": "markdown",
      "source": [
        "This creates two files: `multi30k.model` and `multi30k.vocab`. The first is a binary file containing the relevant data for the vocabulary. The second is a human-readable listing of each subword and its associated score."
      ],
      "metadata": {
        "id": "ox_6NYWCoydJ"
      }
    },
    {
      "cell_type": "markdown",
      "source": [
        "We can preview the contents of the vocabulary by looking at the first few rows from the human-readable file."
      ],
      "metadata": {
        "id": "HNQVI82Lpt9S"
      }
    },
    {
      "cell_type": "code",
      "source": [
        "!head -n 30 multi30k.vocab"
      ],
      "metadata": {
        "id": "Xj-OHYlppX4N",
        "execution": {
          "iopub.status.busy": "2022-02-11T16:55:07.997608Z",
          "iopub.execute_input": "2022-02-11T16:55:07.99789Z",
          "iopub.status.idle": "2022-02-11T16:55:08.659461Z",
          "shell.execute_reply.started": "2022-02-11T16:55:07.99786Z",
          "shell.execute_reply": "2022-02-11T16:55:08.658622Z"
        },
        "trusted": true
      },
      "execution_count": null,
      "outputs": []
    },
    {
      "cell_type": "markdown",
      "source": [
        "As we can see, the vocabulary consists of four special tokens (`<pad>` for padding, `<s>` for beginning of sentence (BOS), `</s>` for end of sentence (EOS), `<unk>` for unknown) and a mixture of German and English words and subwords. In order to ensure reversability, word boundaries are encoded with a special unicode character \"▁\" (U+2581)."
      ],
      "metadata": {
        "id": "TBGuw-18qjsB"
      }
    },
    {
      "cell_type": "markdown",
      "source": [
        "To use the vocabulary, we first need to load it from the binary file produced above."
      ],
      "metadata": {
        "id": "GlBIoN4aragA"
      }
    },
    {
      "cell_type": "code",
      "source": [
        "vocab = sentencepiece.SentencePieceProcessor()\n",
        "vocab.Load(\"multi30k.model\")"
      ],
      "metadata": {
        "id": "SJYzMQxfvrr0",
        "execution": {
          "iopub.status.busy": "2022-02-11T16:55:12.417975Z",
          "iopub.execute_input": "2022-02-11T16:55:12.418249Z",
          "iopub.status.idle": "2022-02-11T16:55:12.445914Z",
          "shell.execute_reply.started": "2022-02-11T16:55:12.418221Z",
          "shell.execute_reply": "2022-02-11T16:55:12.445218Z"
        },
        "trusted": true
      },
      "execution_count": null,
      "outputs": []
    },
    {
      "cell_type": "markdown",
      "source": [
        "The vocabulary object includes a number of methods for working with full sequences or individual pieces. We explore the most relevant ones below. A complete interface can be found on [GitHub](https://github.com/google/sentencepiece/tree/master/python#usage) for reference."
      ],
      "metadata": {
        "id": "1sLfI6vDriWK"
      }
    },
    {
      "cell_type": "code",
      "source": [
        "print(\"Vocabulary size:\", vocab.GetPieceSize())\n",
        "print()\n",
        "\n",
        "for example in training_data[:3]:\n",
        "  sentence = example.trg\n",
        "  pieces = vocab.EncodeAsPieces(sentence)\n",
        "  indices = vocab.EncodeAsIds(sentence)\n",
        "  print(sentence)\n",
        "  print(pieces)\n",
        "  print(vocab.DecodePieces(pieces))\n",
        "  print(indices)\n",
        "  print(vocab.DecodeIds(indices))\n",
        "  print()\n",
        "\n",
        "piece = vocab.EncodeAsPieces(\"the\")[0]\n",
        "index = vocab.PieceToId(piece)\n",
        "print(piece)\n",
        "print(index)\n",
        "print(vocab.IdToPiece(index))"
      ],
      "metadata": {
        "id": "eC4S6WBCsjOW",
        "execution": {
          "iopub.status.busy": "2022-02-11T16:55:31.85863Z",
          "iopub.execute_input": "2022-02-11T16:55:31.858906Z",
          "iopub.status.idle": "2022-02-11T16:55:31.871464Z",
          "shell.execute_reply.started": "2022-02-11T16:55:31.858876Z",
          "shell.execute_reply": "2022-02-11T16:55:31.870505Z"
        },
        "trusted": true
      },
      "execution_count": null,
      "outputs": []
    },
    {
      "cell_type": "markdown",
      "source": [
        "We define some constants here for the first three special tokens that you may find useful in the following sections."
      ],
      "metadata": {
        "id": "qsxRb6TOVHn5"
      }
    },
    {
      "cell_type": "code",
      "source": [
        "pad_id = vocab.PieceToId(\"<pad>\")\n",
        "bos_id = vocab.PieceToId(\"<s>\")\n",
        "eos_id = vocab.PieceToId(\"</s>\")"
      ],
      "metadata": {
        "id": "xheKi30BVVJC",
        "execution": {
          "iopub.status.busy": "2022-02-11T16:56:05.283898Z",
          "iopub.execute_input": "2022-02-11T16:56:05.284445Z",
          "iopub.status.idle": "2022-02-11T16:56:05.288519Z",
          "shell.execute_reply.started": "2022-02-11T16:56:05.284408Z",
          "shell.execute_reply": "2022-02-11T16:56:05.287565Z"
        },
        "trusted": true
      },
      "execution_count": null,
      "outputs": []
    },
    {
      "cell_type": "markdown",
      "source": [
        "Note that these tokens will be stripped from the output when converting from word pieces to text. This may be helpful when implementing greedy search and beam search."
      ],
      "metadata": {
        "id": "hI8olw4LapHZ"
      }
    },
    {
      "cell_type": "code",
      "source": [
        "sentence = training_data[0].trg\n",
        "indices = vocab.EncodeAsIds(sentence)\n",
        "indices_augmented = [bos_id] + indices + [eos_id, pad_id, pad_id, pad_id]\n",
        "print(vocab.DecodeIds(indices))\n",
        "print(vocab.DecodeIds(indices_augmented))\n",
        "print(vocab.DecodeIds(indices) == vocab.DecodeIds(indices_augmented))"
      ],
      "metadata": {
        "id": "mv6i28CVa0O9",
        "execution": {
          "iopub.status.busy": "2022-02-11T16:56:09.673386Z",
          "iopub.execute_input": "2022-02-11T16:56:09.674152Z",
          "iopub.status.idle": "2022-02-11T16:56:09.682714Z",
          "shell.execute_reply.started": "2022-02-11T16:56:09.674104Z",
          "shell.execute_reply": "2022-02-11T16:56:09.681868Z"
        },
        "trusted": true
      },
      "execution_count": null,
      "outputs": []
    },
    {
      "cell_type": "markdown",
      "source": [
        "## Baseline sequence-to-sequence model"
      ],
      "metadata": {
        "id": "KiSPP3tdyaid"
      }
    },
    {
      "cell_type": "markdown",
      "source": [
        "With our data and vocabulary loaded, we're now ready to build a baseline sequence-to-sequence model.  Later on we'll add an attention mechanism to the model."
      ],
      "metadata": {
        "id": "7g-Ncq5zxhvB"
      }
    },
    {
      "cell_type": "markdown",
      "source": [
        "Let's begin by defining a batch iterator for the training data. Given a dataset and a batch size, it will iterate over the dataset and yield pairs of tensors containing the subword indices for the source and target sentences in the batch, respectively.  Fill in `make_batch` below."
      ],
      "metadata": {
        "id": "7xIg5y_xynkU"
      }
    },
    {
      "cell_type": "code",
      "source": [
        "def make_batch(sentences):\n",
        "  \"\"\"Convert a list of sentences into a batch of subword indices.\n",
        "\n",
        "  Args:\n",
        "    sentences: A list of sentences, each of which is a string.\n",
        "\n",
        "  Returns:\n",
        "    A LongTensor of size (max_sequence_length, batch_size) containing the\n",
        "    subword indices for the sentences, where max_sequence_length is the length\n",
        "    of the longest sentence as encoded by the subword vocabulary and batch_size\n",
        "    is the number of sentences in the batch. A beginning-of-sentence token\n",
        "    should be included before each sequence, and an end-of-sentence token should\n",
        "    be included after each sequence. Empty slots at the end of shorter sequences\n",
        "    should be filled with padding tokens. The tensor should be located on the\n",
        "    device defined at the beginning of the notebook.\n",
        "  \"\"\"\n",
        "\n",
        "  # Implementation tip: You can use the nn.utils.rnn.pad_sequence utility\n",
        "  # function to combine a list of variable-length sequences with padding.\n",
        "\n",
        "  # YOUR CODE HERE\n",
        "  ...\n",
        "\n",
        "  # BEGIN SOLUTION\n",
        "  \n",
        "  # END SOLUTION\n",
        "\n",
        "def make_batch_iterator(dataset, batch_size, shuffle=False):\n",
        "  \"\"\"Make a batch iterator that yields source-target pairs.\n",
        "\n",
        "  Args:\n",
        "    dataset: A torchtext dataset object.\n",
        "    batch_size: An integer batch size.\n",
        "    shuffle: A boolean indicating whether to shuffle the examples.\n",
        "\n",
        "  Yields:\n",
        "    Pairs of tensors constructed by calling the make_batch function on the\n",
        "    source and target sentences in the current group of examples. The max\n",
        "    sequence length can differ between the source and target tensor, but the\n",
        "    batch size will be the same. The final batch may be smaller than the given\n",
        "    batch size.\n",
        "  \"\"\"\n",
        "\n",
        "  examples = list(dataset)\n",
        "  if shuffle:\n",
        "    random.shuffle(examples)\n",
        "\n",
        "  for start_index in range(0, len(examples), batch_size):\n",
        "    example_batch = examples[start_index:start_index + batch_size]\n",
        "    source_sentences = [example.src for example in example_batch]\n",
        "    target_sentences = [example.trg for example in example_batch]\n",
        "    yield make_batch(source_sentences), make_batch(target_sentences)\n",
        "\n",
        "test_batch = make_batch([\"a test input\", \"a longer input than the first\"])\n",
        "print(\"Example batch tensor:\")\n",
        "print(test_batch)\n",
        "assert test_batch.shape[1] == 2\n",
        "assert test_batch[0, 0] == bos_id\n",
        "assert test_batch[0, 1] == bos_id\n",
        "assert test_batch[-1, 0] == pad_id\n",
        "assert test_batch[-1, 1] == eos_id"
      ],
      "metadata": {
        "id": "Q-bI4Im30Ezp",
        "execution": {
          "iopub.status.busy": "2022-02-11T16:56:32.536183Z",
          "iopub.execute_input": "2022-02-11T16:56:32.536656Z",
          "iopub.status.idle": "2022-02-11T16:56:34.768599Z",
          "shell.execute_reply.started": "2022-02-11T16:56:32.536612Z",
          "shell.execute_reply": "2022-02-11T16:56:34.76789Z"
        },
        "trusted": true
      },
      "execution_count": null,
      "outputs": []
    },
    {
      "cell_type": "markdown",
      "source": [
        "Now we will define the model itself. It should consist of a bidirectional LSTM encoder that encodes the input sentence into a fixed-size representation, and an LSTM decoder that uses this representation to produce the output sentence."
      ],
      "metadata": {
        "id": "gGIIy0230Zdc"
      }
    },
    {
      "cell_type": "code",
      "source": [
        "class Seq2seqBaseline(nn.Module):\n",
        "  def __init__(self):\n",
        "    super().__init__()\n",
        "\n",
        "    # Initialize your model's parameters here. To get started, we suggest\n",
        "    # setting all embedding and hidden dimensions to 256, using encoder and\n",
        "    # decoder LSTMs with 2 layers, and using a dropout rate of 0.5.\n",
        "\n",
        "    # Implementation tip: To create a bidirectional LSTM, you don't need to\n",
        "    # create two LSTM networks. Instead use nn.LSTM(..., bidirectional=True).\n",
        "    \n",
        "    # YOUR CODE HERE\n",
        "    ...\n",
        "\n",
        "    # BEGIN SOLUTION\n",
        "    \n",
        "    # END SOLUTION\n",
        "\n",
        "  def encode(self, source):\n",
        "    \"\"\"Encode the source batch using a bidirectional LSTM encoder.\n",
        "\n",
        "    Args:\n",
        "      source: An integer tensor with shape (max_source_sequence_length,\n",
        "        batch_size) containing subword indices for the source sentences.\n",
        "\n",
        "    Returns:\n",
        "      A tuple with three elements:\n",
        "        encoder_output: The output of the bidirectional LSTM with shape\n",
        "          (max_source_sequence_length, batch_size, 2 * hidden_size).\n",
        "        encoder_mask: A boolean tensor with shape (max_source_sequence_length,\n",
        "          batch_size) indicating which encoder outputs correspond to padding\n",
        "          tokens. Its elements should be True at positions corresponding to\n",
        "          padding tokens and False elsewhere.\n",
        "        encoder_hidden: The final hidden states of the bidirectional LSTM (after\n",
        "          a suitable projection) that will be used to initialize the decoder.\n",
        "          This should be a pair of tensors (h_n, c_n), each with shape\n",
        "          (num_layers, batch_size, hidden_size). Note that the hidden state\n",
        "          returned by the LSTM cannot be used directly. Its initial dimension is\n",
        "          twice the required size because it contains state from two directions.\n",
        "\n",
        "    The first two return values are not required for the baseline model and will\n",
        "    only be used later in the attention model. If desired, they can be replaced\n",
        "    with None for the initial implementation.\n",
        "    \"\"\"\n",
        "\n",
        "    # Implementation tip: consider using packed sequences to more easily work\n",
        "    # with the variable-length sequences represented by the source tensor.\n",
        "    # See https://pytorch.org/docs/stable/nn.html#torch.nn.utils.rnn.PackedSequence.\n",
        "\n",
        "    # Implementation tip: there are many simple ways to combine the forward\n",
        "    # and backward portions of the final hidden state, e.g. addition, averaging,\n",
        "    # or a linear transformation of the appropriate size. Any of these\n",
        "    # should let you reach the required performance.\n",
        "\n",
        "    # Compute a tensor containing the length of each source sequence.\n",
        "    lengths = torch.sum(source != pad_id, axis=0)\n",
        "\n",
        "    # YOUR CODE HERE\n",
        "    ...\n",
        "\n",
        "    # BEGIN SOLUTION\n",
        "    \n",
        "    # END SOLUTION\n",
        "\n",
        "  def decode(self, decoder_input, initial_hidden, encoder_output, encoder_mask):\n",
        "    \"\"\"Run the decoder LSTM starting from an initial hidden state.\n",
        "\n",
        "    The third and fourth arguments are not used in the baseline model, but are\n",
        "    included for compatibility with the attention model in the next section.\n",
        "\n",
        "    Args:\n",
        "      decoder_input: An integer tensor with shape (max_decoder_sequence_length,\n",
        "        batch_size) containing the subword indices for the decoder input. During\n",
        "        evaluation, where decoding proceeds one step at a time, the initial\n",
        "        dimension should be 1.\n",
        "      initial_hidden: A pair of tensors (h_0, c_0) representing the initial\n",
        "        state of the decoder, each with shape (num_layers, batch_size,\n",
        "        hidden_size).\n",
        "      encoder_output: The output of the encoder with shape\n",
        "        (max_source_sequence_length, batch_size, 2 * hidden_size).\n",
        "      encoder_mask: The output mask from the encoder with shape\n",
        "        (max_source_sequence_length, batch_size). Encoder outputs at positions\n",
        "        with a True value correspond to padding tokens and should be ignored.\n",
        "\n",
        "    Returns:\n",
        "      A tuple with three elements:\n",
        "        logits: A tensor with shape (max_decoder_sequence_length, batch_size,\n",
        "          vocab_size) containing unnormalized scores for the next-word\n",
        "          predictions at each position.\n",
        "        decoder_hidden: A pair of tensors (h_n, c_n) with the same shape as\n",
        "          initial_hidden representing the updated decoder state after processing\n",
        "          the decoder input.\n",
        "        attention_weights: This will be implemented later in the attention\n",
        "          model, but in order to maintain compatible type signatures, we also\n",
        "          include it here. This can be None or any other placeholder value.\n",
        "    \"\"\"\n",
        "\n",
        "    # These arguments are not used in the baseline model.\n",
        "    del encoder_output\n",
        "    del encoder_mask\n",
        "\n",
        "    # YOUR CODE HERE\n",
        "    ...\n",
        "\n",
        "    # BEGIN SOLUTION\n",
        "    \n",
        "    # END SOLUTION\n",
        "\n",
        "  def compute_loss(self, source, target):\n",
        "    \"\"\"Run the model on the source and compute the loss on the target.\n",
        "\n",
        "    Args:\n",
        "      source: An integer tensor with shape (max_source_sequence_length,\n",
        "        batch_size) containing subword indices for the source sentences.\n",
        "      target: An integer tensor with shape (max_target_sequence_length,\n",
        "        batch_size) containing subword indices for the target sentences.\n",
        "\n",
        "    Returns:\n",
        "      A scalar float tensor representing cross-entropy loss on the current batch.\n",
        "    \"\"\"\n",
        "\n",
        "    # Implementation tip: don't feed the target tensor directly to the decoder.\n",
        "    # To see why, note that for a target sequence like <s> A B C </s>, you would\n",
        "    # want to run the decoder on the prefix <s> A B C and have it predict the\n",
        "    # suffix A B C </s>.\n",
        "\n",
        "    # YOUR CODE HERE\n",
        "    ...\n",
        "\n",
        "    # BEGIN SOLUTION\n",
        "    \n",
        "    # END SOLUTION"
      ],
      "metadata": {
        "id": "Dz3pUko2L8Fj",
        "execution": {
          "iopub.status.busy": "2022-02-11T16:57:28.75018Z",
          "iopub.execute_input": "2022-02-11T16:57:28.75044Z",
          "iopub.status.idle": "2022-02-11T16:57:28.892809Z",
          "shell.execute_reply.started": "2022-02-11T16:57:28.750412Z",
          "shell.execute_reply": "2022-02-11T16:57:28.891883Z"
        },
        "trusted": true
      },
      "execution_count": null,
      "outputs": []
    },
    {
      "cell_type": "markdown",
      "source": [
        "We define the following functions for training.  This code will run as provided, but you are welcome to modify the training loop to adjust the optimizer settings, add learning rate decay, etc."
      ],
      "metadata": {
        "id": "jx9jJQb58nUY"
      }
    },
    {
      "cell_type": "code",
      "source": [
        "def train(model, num_epochs, batch_size, model_file):\n",
        "  \"\"\"Train the model and save its best checkpoint.\n",
        "  \n",
        "  Model performance across epochs is evaluated using token-level accuracy on the\n",
        "  validation set. The best checkpoint obtained during training will be stored on\n",
        "  disk and loaded back into the model at the end of training.\n",
        "  \"\"\"\n",
        "  optimizer = torch.optim.Adam(model.parameters())\n",
        "  best_accuracy = 0.0\n",
        "  for epoch in tqdm.notebook.trange(num_epochs, desc=\"training\", unit=\"epoch\"):\n",
        "    with tqdm.notebook.tqdm(\n",
        "        make_batch_iterator(training_data, batch_size, shuffle=True),\n",
        "        desc=\"epoch {}\".format(epoch + 1),\n",
        "        unit=\"batch\",\n",
        "        total=math.ceil(len(training_data) / batch_size)) as batch_iterator:\n",
        "      model.train()\n",
        "      total_loss = 0.0\n",
        "      for i, (source, target) in enumerate(batch_iterator, start=1):\n",
        "        optimizer.zero_grad()\n",
        "        loss = model.compute_loss(source, target)\n",
        "        total_loss += loss.item()\n",
        "        loss.backward()\n",
        "        optimizer.step()\n",
        "        batch_iterator.set_postfix(mean_loss=total_loss / i)\n",
        "      validation_perplexity, validation_accuracy = evaluate_next_token(\n",
        "          model, validation_data)\n",
        "      batch_iterator.set_postfix(\n",
        "          mean_loss=total_loss / i,\n",
        "          validation_perplexity=validation_perplexity,\n",
        "          validation_token_accuracy=validation_accuracy)\n",
        "      if validation_accuracy > best_accuracy:\n",
        "        print(\n",
        "            \"Obtained a new best validation accuracy of {:.2f}, saving model \"\n",
        "            \"checkpoint to {}...\".format(validation_accuracy, model_file))\n",
        "        torch.save(model.state_dict(), model_file)\n",
        "        best_accuracy = validation_accuracy\n",
        "  print(\"Reloading best model checkpoint from {}...\".format(model_file))\n",
        "  model.load_state_dict(torch.load(model_file))\n",
        "\n",
        "def evaluate_next_token(model, dataset, batch_size=64):\n",
        "  \"\"\"Compute token-level perplexity and accuracy metrics.\n",
        "\n",
        "  Note that the perplexity here is over subwords, not words.\n",
        "  \n",
        "  This function is used for validation set evaluation at the end of each epoch\n",
        "  and should not be modified.\n",
        "  \"\"\"\n",
        "  model.eval()\n",
        "  total_cross_entropy = 0.0\n",
        "  total_predictions = 0\n",
        "  correct_predictions = 0\n",
        "  with torch.no_grad():\n",
        "    for source, target in make_batch_iterator(dataset, batch_size):\n",
        "      encoder_output, encoder_mask, encoder_hidden = model.encode(source)\n",
        "      decoder_input, decoder_target = target[:-1], target[1:]\n",
        "      logits, decoder_hidden, attention_weights = model.decode(\n",
        "          decoder_input, encoder_hidden, encoder_output, encoder_mask)\n",
        "      total_cross_entropy += F.cross_entropy(\n",
        "          logits.permute(1, 2, 0), decoder_target.permute(1, 0),\n",
        "          ignore_index=pad_id, reduction=\"sum\").item()\n",
        "      total_predictions += (decoder_target != pad_id).sum().item()\n",
        "      correct_predictions += (\n",
        "          (decoder_target != pad_id) &\n",
        "          (decoder_target == logits.argmax(2))).sum().item()\n",
        "  perplexity = math.exp(total_cross_entropy / total_predictions)\n",
        "  accuracy = 100 * correct_predictions / total_predictions\n",
        "  return perplexity, accuracy"
      ],
      "metadata": {
        "id": "VKc1pwaZzcUN",
        "execution": {
          "iopub.status.busy": "2022-02-11T16:57:48.709634Z",
          "iopub.execute_input": "2022-02-11T16:57:48.710174Z",
          "iopub.status.idle": "2022-02-11T16:57:48.72508Z",
          "shell.execute_reply.started": "2022-02-11T16:57:48.710129Z",
          "shell.execute_reply": "2022-02-11T16:57:48.724356Z"
        },
        "trusted": true
      },
      "execution_count": null,
      "outputs": []
    },
    {
      "cell_type": "markdown",
      "source": [
        "We can now train the baseline model.\n",
        "\n",
        "Since we haven't yet defined a decoding method to output an entire string, we will measure performance for now by computing perplexity and the accuracy of predicting the next token given a gold prefix of the output. A correct implementation should get a validation token accuracy above 55%. The training code will automatically save the model with the highest validation accuracy and reload that checkpoint's parameters at the end of training."
      ],
      "metadata": {
        "id": "GZYFBChe8-2F"
      }
    },
    {
      "cell_type": "code",
      "source": [
        "# You are welcome to adjust these parameters based on your model implementation.\n",
        "num_epochs = 10\n",
        "batch_size = 16\n",
        "\n",
        "baseline_model = Seq2seqBaseline().to(device)\n",
        "train(baseline_model, num_epochs, batch_size, \"baseline_model.pt\")"
      ],
      "metadata": {
        "id": "thNLsZ04Z0A-",
        "execution": {
          "iopub.status.busy": "2022-02-11T17:10:55.401311Z",
          "iopub.execute_input": "2022-02-11T17:10:55.401569Z",
          "iopub.status.idle": "2022-02-11T17:17:17.185914Z",
          "shell.execute_reply.started": "2022-02-11T17:10:55.40154Z",
          "shell.execute_reply": "2022-02-11T17:17:17.185002Z"
        },
        "trusted": true
      },
      "execution_count": null,
      "outputs": []
    },
    {
      "cell_type": "markdown",
      "source": [
        "**Download your baseline model here.** Once you have a model you are happy with, you are encouraged to download it or save it to your Google Drive in case your session disconnects. The best baseline model has been saved to `baseline_model.pt` in the local filesystem. You will need a trained model while implementing inference below and to generate your final predictions. To download session files from Kaggle, please click the data tab on the right side of the screen and expand the `/kaggle/working` folder. You can do a similar process in Google drive."
      ],
      "metadata": {
        "id": "wzRIg471LlFW"
      }
    },
    {
      "cell_type": "markdown",
      "source": [
        "For evaluation, we also need to be able to generate entire strings from the model. We'll first define a greedy inference procedure here. Later on, we'll implement beam search.\n",
        "\n",
        "A correct implementation of greedy decoding should get above 20 BLEU on the validation set."
      ],
      "metadata": {
        "id": "QO5Saz-KQ9Cg"
      }
    },
    {
      "cell_type": "code",
      "source": [
        "def predict_greedy(model, sentences, max_length=100):\n",
        "  \"\"\"Make predictions for the given inputs using greedy inference.\n",
        "  \n",
        "  Args:\n",
        "    model: A sequence-to-sequence model.\n",
        "    sentences: A list of input sentences, represented as strings.\n",
        "    max_length: The maximum length at which to truncate outputs in order to\n",
        "      avoid non-terminating inference.\n",
        "  \n",
        "  Returns:\n",
        "    A list of predicted translations, represented as strings.\n",
        "  \"\"\"\n",
        "\n",
        "  # Requirement: your implementation must be batched. This means that you should\n",
        "  # make only one call to model.encode() at the start of the function, and make\n",
        "  # only one call to model.decode() per inference step.\n",
        "\n",
        "  # Implementation tip: once an EOS token has been generated, force the output\n",
        "  # for that example to be padding tokens in all subsequent time steps by\n",
        "  # adding a large positive number like 1e9 to the appropriate logits.\n",
        "\n",
        "  # YOUR CODE HERE\n",
        "  ...\n",
        "\n",
        "  # BEGIN SOLUTION\n",
        "  \n",
        "  # END SOLUTION\n",
        "\n",
        "def evaluate(model, dataset, batch_size=64, method=\"greedy\"):\n",
        "  assert method in {\"greedy\", \"beam\"}\n",
        "  source_sentences = [example.src for example in dataset]\n",
        "  target_sentences = [example.trg for example in dataset]\n",
        "  model.eval()\n",
        "  predictions = []\n",
        "  with torch.no_grad():\n",
        "    for start_index in range(0, len(source_sentences), batch_size):\n",
        "      if method == \"greedy\":\n",
        "        prediction_batch = predict_greedy(\n",
        "            model, source_sentences[start_index:start_index + batch_size])\n",
        "      else:\n",
        "        prediction_batch = predict_beam(\n",
        "            model, source_sentences[start_index:start_index + batch_size])\n",
        "        prediction_batch = [candidates[0] for candidates in prediction_batch]\n",
        "      predictions.extend(prediction_batch)\n",
        "  return sacrebleu.corpus_bleu(predictions, [target_sentences]).score\n",
        "\n",
        "print(\"Baseline model validation BLEU using greedy search:\",\n",
        "      evaluate(baseline_model, validation_data))"
      ],
      "metadata": {
        "id": "dXG0VTLvRvzp",
        "execution": {
          "iopub.status.busy": "2022-02-11T17:17:34.542399Z",
          "iopub.execute_input": "2022-02-11T17:17:34.542652Z",
          "iopub.status.idle": "2022-02-11T17:17:35.386175Z",
          "shell.execute_reply.started": "2022-02-11T17:17:34.542624Z",
          "shell.execute_reply": "2022-02-11T17:17:35.38466Z"
        },
        "trusted": true
      },
      "execution_count": null,
      "outputs": []
    },
    {
      "cell_type": "code",
      "source": [
        "def show_predictions(model, num_examples=4, include_beam=False):\n",
        "  for example in validation_data[:num_examples]:\n",
        "    print(\"Input:\")\n",
        "    print(\" \", example.src)\n",
        "    print(\"Target:\")\n",
        "    print(\" \", example.trg)\n",
        "    print(\"Greedy prediction:\")\n",
        "    print(\" \", predict_greedy(model, [example.src])[0])\n",
        "    if include_beam:\n",
        "      print(\"Beam predictions:\")\n",
        "      for candidate in predict_beam(model, [example.src])[0]:\n",
        "        print(\" \", candidate)\n",
        "    print()\n",
        "\n",
        "print(\"Baseline model sample predictions:\")\n",
        "print()\n",
        "show_predictions(baseline_model)"
      ],
      "metadata": {
        "id": "BoevlyGGF8Bs",
        "execution": {
          "iopub.status.busy": "2022-02-11T17:00:48.734123Z",
          "iopub.execute_input": "2022-02-11T17:00:48.734667Z",
          "iopub.status.idle": "2022-02-11T17:00:48.798028Z",
          "shell.execute_reply.started": "2022-02-11T17:00:48.734625Z",
          "shell.execute_reply": "2022-02-11T17:00:48.796906Z"
        },
        "trusted": true
      },
      "execution_count": null,
      "outputs": []
    },
    {
      "cell_type": "markdown",
      "source": [
        "## Sequence-to-sequence model with attention"
      ],
      "metadata": {
        "id": "vb7NfD4BD7I_"
      }
    },
    {
      "cell_type": "markdown",
      "source": [
        "Next, we extend the baseline model to include an attention mechanism in the decoder. This circumvents the need to store all information about the source sentence in a fixed-size representation, and should substantially improve performance and convergence time.\n",
        "\n",
        "Your implementation should use bilinear attention, where the attention distribution over the encoder outputs $e_1, \\dots, e_n$ given a decoder LSTM output $d$ is obtained via a softmax of the dot products after a suitable projection to get them to the same size: $w_i \\propto \\exp ( d^\\top W e_i )$. The unnormalized attention logits for encoder outputs corresponding to padding tokens should be offset with a large negative value to ensure that the corresponding attention weights are $0$.\n",
        "\n",
        "After computing the attention distribution, take a weighted sum of the projected encoder outputs to obtain the attention context $c = \\sum_i w_i We_i$, and add this to the decoder output $d$ to obtain the final representation to be passed to the vocabulary projection layer."
      ],
      "metadata": {
        "id": "9SNJwlAO9N0k"
      }
    },
    {
      "cell_type": "code",
      "source": [
        "class Seq2seqAttention(Seq2seqBaseline):\n",
        "  def __init__(self):\n",
        "    super().__init__()\n",
        "\n",
        "    # Initialize any additional parameters needed for this model that are not\n",
        "    # already included in the baseline model.\n",
        "    \n",
        "    # YOUR CODE HERE\n",
        "    ...\n",
        "\n",
        "    # BEGIN SOLUTION\n",
        "    \n",
        "    # END SOLUTION\n",
        "\n",
        "  def decode(self, decoder_input, initial_hidden, encoder_output, encoder_mask):\n",
        "    \"\"\"Run the decoder LSTM starting from an initial hidden state.\n",
        "\n",
        "    The third and fourth arguments are not used in the baseline model, but are\n",
        "    included for compatibility with the attention model in the next section.\n",
        "\n",
        "    Args:\n",
        "      decoder_input: An integer tensor with shape (max_decoder_sequence_length,\n",
        "        batch_size) containing the subword indices for the decoder input. During\n",
        "        evaluation, where decoding proceeds one step at a time, the initial\n",
        "        dimension should be 1.\n",
        "      initial_hidden: A pair of tensors (h_0, c_0) representing the initial\n",
        "        state of the decoder, each with shape (num_layers, batch_size,\n",
        "        hidden_size).\n",
        "      encoder_output: The output of the encoder with shape\n",
        "        (max_source_sequence_length, batch_size, 2 * hidden_size).\n",
        "      encoder_mask: The output mask from the encoder with shape\n",
        "        (max_source_sequence_length, batch_size). Encoder outputs at positions\n",
        "        with a True value correspond to padding tokens and should be ignored.\n",
        "\n",
        "    Returns:\n",
        "      A tuple with three elements:\n",
        "        logits: A tensor with shape (max_decoder_sequence_length, batch_size,\n",
        "          vocab_size) containing unnormalized scores for the next-word\n",
        "          predictions at each position.\n",
        "        decoder_hidden: A pair of tensors (h_n, c_n) with the same shape as\n",
        "          initial_hidden representing the updated decoder state after processing\n",
        "          the decoder input.\n",
        "        attention_weights: A tensor with shape (max_decoder_sequence_length,\n",
        "          batch_size, max_source_sequence_length) representing the normalized\n",
        "          attention weights. This should sum to 1 along the last dimension.\n",
        "    \"\"\"\n",
        "\n",
        "    # Implementation tip: use a large negative number like -1e9 instead of\n",
        "    # float(\"-inf\") when masking logits to avoid numerical issues.\n",
        "\n",
        "    # Implementation tip: the function torch.einsum may be useful here.\n",
        "    # See https://rockt.github.io/2018/04/30/einsum for a tutorial.\n",
        "\n",
        "    # YOUR CODE HERE\n",
        "    ...\n",
        "\n",
        "    # BEGIN SOLUTION\n",
        "    \n",
        "    # END SOLUTION"
      ],
      "metadata": {
        "id": "0uI8j0Sa-gNa",
        "execution": {
          "iopub.status.busy": "2022-02-11T17:00:53.912398Z",
          "iopub.execute_input": "2022-02-11T17:00:53.912668Z",
          "iopub.status.idle": "2022-02-11T17:00:53.922526Z",
          "shell.execute_reply.started": "2022-02-11T17:00:53.912632Z",
          "shell.execute_reply": "2022-02-11T17:00:53.921731Z"
        },
        "trusted": true
      },
      "execution_count": null,
      "outputs": []
    },
    {
      "cell_type": "markdown",
      "source": [
        "As before, we can train an attention model using the provided training code.\n",
        "\n",
        "A correct implementation should get a validation token accuracy above 64 and a validation BLEU above 36 with greedy search."
      ],
      "metadata": {
        "id": "wgHYmMDR9lAd"
      }
    },
    {
      "cell_type": "code",
      "source": [
        "# You are welcome to adjust these parameters based on your model implementation.\n",
        "num_epochs = 10\n",
        "batch_size = 16\n",
        "\n",
        "attention_model = Seq2seqAttention().to(device)\n",
        "train(attention_model, num_epochs, batch_size, \"attention_model.pt\")\n",
        "print(\"Attention model validation BLEU using greedy search:\",\n",
        "      evaluate(attention_model, validation_data))"
      ],
      "metadata": {
        "id": "0YvMnDHxJOZv",
        "execution": {
          "iopub.status.busy": "2022-02-11T17:03:49.337985Z",
          "iopub.execute_input": "2022-02-11T17:03:49.338267Z",
          "iopub.status.idle": "2022-02-11T17:10:44.602136Z",
          "shell.execute_reply.started": "2022-02-11T17:03:49.338236Z",
          "shell.execute_reply": "2022-02-11T17:10:44.601381Z"
        },
        "trusted": true
      },
      "execution_count": null,
      "outputs": []
    },
    {
      "cell_type": "markdown",
      "source": [
        "**Download your attention model here.** Once you have a model you are happy with, you are encouraged to download it or save it to your Google Drive in case your session disconnects. The best attention model has been saved to `attention_model.pt` in the local filesystem. You will need a trained model while implementing beam search below and to generate your final predictions."
      ],
      "metadata": {
        "id": "Ey4qZ_U4bcFF"
      }
    },
    {
      "cell_type": "code",
      "source": [
        "print(\"Attention model validation BLEU using greedy search:\",\n",
        "      evaluate(attention_model, validation_data))\n",
        "print()\n",
        "print(\"Attention model sample predictions:\")\n",
        "print()\n",
        "show_predictions(attention_model)"
      ],
      "metadata": {
        "id": "U2dWb-JrA2bR"
      },
      "execution_count": null,
      "outputs": []
    },
    {
      "cell_type": "markdown",
      "source": [
        "## Beam Search"
      ],
      "metadata": {
        "id": "u15C5gGLMVSa"
      }
    },
    {
      "cell_type": "markdown",
      "source": [
        "Now it's time to implement beam search.\n",
        "\n",
        "Similar to greedy search, beam search generates one token at a time. However, rather than keeping only the single best hypothesis, we instead keep the top $k$ candidates at each time step. This is accomplished by computing the set of next-token extensions for each item on the beam and finding the top $k$ across all candidates according to total log-probability.\n",
        "\n",
        "Candidates that are finished should stay on the beam through the end of inference. The search process concludes once all $k$ items on the beam are complete.\n",
        "\n",
        "With beam search, you should get an improvement of at least 0.5 BLEU over greedy search, and should reach above 21 BLEU without attention and above 37 BLEU with attention.\n",
        "\n",
        "**Tips:**\n",
        "\n",
        "1) A good general strategy when doing complex code like this is to carefully annotate each line with a comment saying what each dimension represents. \n",
        "\n",
        "2) You should only need one call to topk per step. You do not need to have a topk just over vocabulary first, you can directly go from vocab_size*beam_size to beam_size items.\n",
        "\n",
        "3) Be sure you are correctly keeping track of which beam item a candidate is selected from and updating the beam states, such as LSTM hidden state, accordingly. A single state from the previous time step may need to be used for multiple new beam items or not at all. This includes all state associated with a beam, including all past tokens output by the beam and any extra tensors such as ones remembering when a beam is finished.\n",
        "\n",
        "4) Pay attention to how you interleave things when using a single dimension to represent multiple things.  It will make a difference when you start reshaping to separate them out.  It may be easier to start with everything separate, then temporarily combine as needed.\n",
        "\n",
        "5) For efficiency, we suggest that you implement all beam manipulations using batched PyTorch computations rather than Python for-loops.\n",
        "\n",
        "6) Once an EOS token has been generated, force the output for that candidate to be padding tokens in all subsequent time steps by adding a large positive number like 1e9 to the appropriate logits. This will ensure that the candidate stays on the beam, as its probability will be very close to 1 and its score will effectively remain the same as when it was first completed.  All other (invalid) token continuations will have extremely low log probability and will not make it onto the beam.\n",
        "\n",
        "7) While you are encouraged to keep your tensor dimensions constant for simplicity (aside from the sequence length), some special care will need to be taken on the first iteration to ensure that your beam doesn't fill up with k identical copies of the same candidate.\n"
      ],
      "metadata": {
        "id": "R7I01Tl1MYR9"
      }
    },
    {
      "cell_type": "code",
      "source": [
        "def predict_beam(model, sentences, k=5, max_length=100):\n",
        "  \"\"\"Make predictions for the given inputs using beam search.\n",
        "  \n",
        "  Args:\n",
        "    model: A sequence-to-sequence model.\n",
        "    sentences: A list of input sentences, represented as strings.\n",
        "    k: The size of the beam.\n",
        "    max_length: The maximum length at which to truncate outputs in order to\n",
        "      avoid non-terminating inference.\n",
        "  \n",
        "  Returns:\n",
        "    A list of beam predictions. Each element in the list should be a list of k\n",
        "    strings corresponding to the top k predictions for the corresponding input,\n",
        "    sorted in descending order by score.\n",
        "  \"\"\"\n",
        "\n",
        "  # Requirement: your implementation must be batched. This means that you should\n",
        "  # make only one call to model.encode() at the start of the function, and make\n",
        "  # only one call to model.decode() per inference step.\n",
        "  \n",
        "  # Does top-k return relative ordering, if not how to return at end of method? \n",
        "  # EOS candidate getting knocked. \n",
        "\n",
        "  # YOUR CODE HERE\n",
        "  ...\n",
        "\n",
        "  # BEGIN SOLUTION\n",
        "  \n",
        "  # END SOLUTION\n",
        "\n",
        "print(\"Baseline model validation BLEU using beam search:\",\n",
        "      evaluate(baseline_model, validation_data, method=\"beam\"))\n",
        "print()\n",
        "print(\"Baseline model sample predictions:\")\n",
        "print()\n",
        "show_predictions(baseline_model, include_beam=True)"
      ],
      "metadata": {
        "id": "-n3h47bJ8sz-",
        "execution": {
          "iopub.status.busy": "2022-02-11T17:18:08.32329Z",
          "iopub.execute_input": "2022-02-11T17:18:08.323544Z",
          "iopub.status.idle": "2022-02-11T17:18:11.003734Z",
          "shell.execute_reply.started": "2022-02-11T17:18:08.323516Z",
          "shell.execute_reply": "2022-02-11T17:18:11.003018Z"
        },
        "trusted": true
      },
      "execution_count": null,
      "outputs": []
    },
    {
      "cell_type": "code",
      "source": [
        "print(\"Attention model validation BLEU using beam search:\",\n",
        "      evaluate(attention_model, validation_data, method=\"beam\"))\n",
        "print()\n",
        "print(\"Attention model sample predictions:\")\n",
        "print()\n",
        "show_predictions(attention_model, include_beam=True)"
      ],
      "metadata": {
        "id": "XI76LuciROgh",
        "execution": {
          "iopub.status.busy": "2022-02-11T17:18:29.923015Z",
          "iopub.execute_input": "2022-02-11T17:18:29.923475Z",
          "iopub.status.idle": "2022-02-11T17:18:34.722149Z",
          "shell.execute_reply.started": "2022-02-11T17:18:29.923439Z",
          "shell.execute_reply": "2022-02-11T17:18:34.721488Z"
        },
        "trusted": true
      },
      "execution_count": null,
      "outputs": []
    },
    {
      "cell_type": "markdown",
      "source": [
        "## Attention visualization: 1-Page Analysis"
      ],
      "metadata": {
        "id": "EEQlwh2qELmY"
      }
    },
    {
      "cell_type": "markdown",
      "source": [
        "Once you have everything working in the sections above, add some code here to visualize the decoder attention learned by the attention model using `matplotlib`.\n",
        "\n",
        "You may visualize decoder attention on gold source-target pairs from the validation data. You do not need to run any inference.\n",
        "\n",
        "For this section, you will submit a write-up interpreting attention maps generated by your model. Your write-up should be 1-page maximum in length and should be submitted in PDF format. You may use any editor you like, but we recommend using LaTeX and working in an environment like Overleaf. For full credit, your write-up should include:\n",
        "\n",
        "* A figure with attention map plots for 4 sentence pairs from the validation set (the method `imshow`, or equivalent, will likely be useful here). We encourage you to look through more maps to aid your analysis, but please only include 4 representative plots in the figure. \n",
        "* A brief discussion over trends you discover in the plots. Do the maps line up with your intuition, are there any surprising alignments? Are there any many-to-one or many-to-many alignments, or mainly one-to-one? Using a tool like Google Translate on substrings may help give some insight into this.\n",
        "\n",
        "When you submit the file, please name it report.pdf."
      ],
      "metadata": {
        "id": "edKLVL35EN7X"
      }
    },
    {
      "cell_type": "code",
      "source": [
        "# You may find the following annotated heatmap tutorial helpful:\n",
        "# https://matplotlib.org/3.1.3/gallery/images_contours_and_fields/image_annotated_heatmap.html.\n",
        "\n",
        "# YOUR CODE HERE\n",
        "...\n",
        "\n",
        "# BEGIN SOLUTION\n",
        "\n",
        "# END SOLUTION"
      ],
      "metadata": {
        "id": "Ok-26cAK7vry",
        "execution": {
          "iopub.status.busy": "2022-02-11T17:18:40.888045Z",
          "iopub.execute_input": "2022-02-11T17:18:40.888307Z",
          "iopub.status.idle": "2022-02-11T17:18:45.550017Z",
          "shell.execute_reply.started": "2022-02-11T17:18:40.88828Z",
          "shell.execute_reply": "2022-02-11T17:18:45.549323Z"
        },
        "trusted": true
      },
      "execution_count": null,
      "outputs": []
    },
    {
      "cell_type": "markdown",
      "source": [
        "\\* Describe your findings in this text cell. \\*"
      ],
      "metadata": {
        "id": "0Y8xCIt_82WF"
      }
    },
    {
      "cell_type": "markdown",
      "source": [
        "## Submission"
      ],
      "metadata": {
        "id": "kotdLszxHWWJ"
      }
    },
    {
      "cell_type": "markdown",
      "source": [
        "Turn in the following files on Gradescope:\n",
        "* proj_2.ipynb (this file; please rename to match)\n",
        "* predictions.json (the predictions file generated by running the cell below)\n",
        "* report.pdf\n",
        "\n",
        "Be sure to check the output of the autograder after it runs.  It should confirm that no files are missing and that the output files have the correct format.\n",
        "\n",
        "The code below will generate the required predictions file.  **Note** that it is designed to create the file even if some required elements are missing so that you can submit for partial credit.  If you want full credit, you should check the output to make sure there are no warnings indicating missing portions."
      ],
      "metadata": {
        "id": "-onu93vgG2-U"
      }
    },
    {
      "cell_type": "code",
      "source": [
        "# Run this cell to generate the predictions.json file required for submission.\n",
        "\n",
        "def get_raw_predictions(model, dataset, method, batch_size=64):\n",
        "  assert method in {\"greedy\", \"beam\"}\n",
        "  source_sentences = [example.src for example in dataset]\n",
        "  target_sentences = [example.trg for example in dataset]\n",
        "  model.eval()\n",
        "  predictions = []\n",
        "  with torch.no_grad():\n",
        "    for start_index in range(0, len(source_sentences), batch_size):\n",
        "      if method == \"greedy\":\n",
        "        prediction_batch = predict_greedy(\n",
        "            model, source_sentences[start_index:start_index + batch_size])\n",
        "      else:\n",
        "        prediction_batch = predict_beam(\n",
        "            model, source_sentences[start_index:start_index + batch_size])\n",
        "      predictions.extend(prediction_batch)\n",
        "  return predictions\n",
        "\n",
        "def generate_predictions_file_for_submission(filepath):\n",
        "  models = {\"baseline\": baseline_model, \"attention\": attention_model}\n",
        "  datasets = {\"validation\": validation_data, \"test\": test_data}\n",
        "  methods = [\"greedy\", \"beam\"]\n",
        "  predictions = {}\n",
        "  for model_name, model in models.items():\n",
        "    for dataset_name, dataset in datasets.items():\n",
        "      for method in methods:\n",
        "        print(\n",
        "            \"Getting predictions for {} model on {} set using {} \"\n",
        "            \"search...\".format(model_name, dataset_name, method))\n",
        "        if model_name not in predictions:\n",
        "          predictions[model_name] = {}\n",
        "        if dataset_name not in predictions[model_name]:\n",
        "          predictions[model_name][dataset_name] = {}\n",
        "        try:\n",
        "          predictions[model_name][dataset_name][method] = get_raw_predictions(\n",
        "              model, dataset, method)\n",
        "        except:\n",
        "          print(\"!!! WARNING: An exception was raised, setting predictions to None !!!\")\n",
        "          predictions[model_name][dataset_name][method] = None\n",
        "  print(\"Writing predictions to {}...\".format(filepath))\n",
        "  with open(filepath, \"w\") as outfile:\n",
        "    json.dump(predictions, outfile, indent=2)\n",
        "  print(\"Finished writing predictions to {}.\".format(filepath))\n",
        "\n",
        "generate_predictions_file_for_submission(\"predictions.json\")"
      ],
      "metadata": {
        "id": "u46sp3zlG7Tg",
        "execution": {
          "iopub.status.busy": "2022-02-11T17:19:09.170421Z",
          "iopub.execute_input": "2022-02-11T17:19:09.170681Z",
          "iopub.status.idle": "2022-02-11T17:19:24.612212Z",
          "shell.execute_reply.started": "2022-02-11T17:19:09.170652Z",
          "shell.execute_reply": "2022-02-11T17:19:24.611435Z"
        },
        "trusted": true
      },
      "execution_count": null,
      "outputs": []
    }
  ]
}