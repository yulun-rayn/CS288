{
  "cells": [
    {
      "cell_type": "markdown",
      "metadata": {
        "_kg_hide-output": true,
        "id": "SbbJcFxKuPdj"
      },
      "source": [
        "# HW2A: Alignment with IBM Model 1\n"
      ]
    },
    {
      "cell_type": "code",
      "execution_count": 1,
      "metadata": {
        "_cell_guid": "b1076dfc-b9ad-4769-8c92-a6c4dae69d19",
        "_uuid": "8f2839f25d086af736a60e9eeb907d3b93b6e0e5",
        "execution": {
          "iopub.execute_input": "2022-02-11T20:25:09.644101Z",
          "iopub.status.busy": "2022-02-11T20:25:09.64378Z",
          "iopub.status.idle": "2022-02-11T20:25:09.651999Z",
          "shell.execute_reply": "2022-02-11T20:25:09.650789Z",
          "shell.execute_reply.started": "2022-02-11T20:25:09.644071Z"
        },
        "id": "RbrdQqdRuPdl",
        "trusted": true
      },
      "outputs": [],
      "source": [
        "# This Python 3 environment comes with many helpful analytics libraries installed\n",
        "# It is defined by the kaggle/python Docker image: https://github.com/kaggle/docker-python\n",
        "# For example, here's several helpful packages to load\n",
        "\n",
        "import math\n",
        "import matplotlib.pyplot as plt # graphs and figures\n",
        "import numpy as np # linear algebra\n",
        "import pandas as pd # data processing, CSV file I/O (e.g. pd.read_csv)\n",
        "import string\n",
        "from collections import Counter\n",
        "from itertools import product\n",
        "import tqdm.notebook\n",
        "import pickle\n",
        "import os\n",
        "\n",
        "os.makedirs('./saves/', exist_ok=True)"
      ]
    },
    {
      "attachments": {},
      "cell_type": "markdown",
      "metadata": {
        "id": "vNNKfZ-BuPdm"
      },
      "source": [
        "## Alignment Model\n",
        "\n",
        "We'll start out by using a toy dataset. Please see [these slides](https://cal-cs288.github.io/sp20/slides/cs288_sp20_05_statistical_translation_4up.pdf) for a more complete coverage of IBM Model 1, and feel free to check out Philipp Koehn's book _Statistical Machine Translation_. \n",
        "\n",
        "Fill in the code for IBM Model 1 below. A correct implementation should achieve perplexity 4096 on the first iteration and perplexity around 70 by the tenth iteration, for the toy dataset above. Note that we'll be grading you only on the generated `self.translation_probabilities`, so the probability and perplexity functions only exist for you to check the correctness of your own implementation. You may wish to comment them out during implementation and check that `self.translation_probabilities` looks reasonable instead."
      ]
    },
    {
      "cell_type": "code",
      "execution_count": 127,
      "metadata": {
        "execution": {
          "iopub.execute_input": "2022-02-11T20:27:18.353685Z",
          "iopub.status.busy": "2022-02-11T20:27:18.353267Z",
          "iopub.status.idle": "2022-02-11T20:27:18.384054Z",
          "shell.execute_reply": "2022-02-11T20:27:18.38336Z",
          "shell.execute_reply.started": "2022-02-11T20:27:18.353655Z"
        },
        "id": "Ah1xi0KOuPdn",
        "trusted": true
      },
      "outputs": [],
      "source": [
        "class IBMModel1:\n",
        "    def __init__(self, data, num_iterations=10, epsilon=1.0, compute_perplexity=True):\n",
        "        self.data = data # aligned corpus as shown above\n",
        "        self.num_iterations = num_iterations # iterations of expectation-maximization\n",
        "        self.epsilon = epsilon\n",
        "        self.compute_perplexity = compute_perplexity\n",
        "\n",
        "        # Preprocess bitext data:\n",
        "        self.source_words, self.target_words = set(), set()\n",
        "        for (source,target) in self.data:\n",
        "            self.source_words.update(source)\n",
        "            self.target_words.update(target)\n",
        "\n",
        "        # Initialize uniform probabilities:\n",
        "        self.translation_probs = {(s,t): 1.0/len(self.target_words)\n",
        "                                  for s,t in product(self.source_words, self.target_words)}\n",
        "\n",
        "    def e_step(self):\n",
        "        # YOUR SOLUTION HERE\n",
        "        # - Iterate over paired sentences in the data and compute:\n",
        "        # - (1) counts, the number of times a source word is translated into a target word,\n",
        "        #       weighted by alignment probabilities\n",
        "        # - (2) total, the sum of counts for all possible target words\n",
        "        # See slide 32 for more information: https://cal-cs288.github.io/sp20/slides/cs288_sp20_05_statistical_translation_4up.pdf\n",
        "        # BEGIN SOLUTION\n",
        "\n",
        "        counts = {(s,t): 0 for s,t in product(self.source_words, self.target_words)}\n",
        "        total = {t: 0 for t in self.target_words}\n",
        "        for source, target in self.data:\n",
        "            for s, t in zip(source, target):\n",
        "                counts[(s,t)] += self.translation_probs[(s,t)]\n",
        "                total[t] += self.translation_probs[(s,t)]\n",
        "\n",
        "        return counts, total\n",
        "\n",
        "        # END SOLUTION\n",
        "\n",
        "    def m_step(self, counts, total):\n",
        "        # YOUR SOLUTION HERE\n",
        "        # - Update self.translation_probs using counts and total\n",
        "        # BEGIN SOLUTION\n",
        "\n",
        "        for s, t in self.translation_probs:\n",
        "            if total[t] == 0:\n",
        "                self.translation_probs[(s,t)] = 0\n",
        "            else:\n",
        "                self.translation_probs[(s,t)] = counts[(s,t)] / total[t]\n",
        "\n",
        "        return self.translation_probs\n",
        "\n",
        "        # END SOLUTION\n",
        "\n",
        "    def train(self):\n",
        "        # Run EM for self.num_iterations:\n",
        "        for idx in tqdm.tqdm(range(self.num_iterations)):\n",
        "            if self.compute_perplexity: \n",
        "                print(\"Iteration: {} | Perplexity: {}\".format(idx, self.perplexity()))\n",
        "            counts, total = self.e_step()\n",
        "            self.m_step(counts, total)\n",
        "        if self.compute_perplexity:\n",
        "            print(\"Iteration: {} | Perplexity: {}\".format(self.num_iterations, self.perplexity()))\n",
        "\n",
        "    def probability(self, source, target):\n",
        "        # YOUR SOLUTION HERE\n",
        "        # - Use the normalization trick from lecture to efficiently compute probabilities\n",
        "        # - We'll use self.epsilon here, which is defined in the initialization\n",
        "        # BEGIN SOLUTION\n",
        "\n",
        "        counts = 1\n",
        "        for s, t in zip(source, target):\n",
        "            counts *= self.translation_probs[(s,t)]\n",
        "\n",
        "        total = 1\n",
        "        for t in target:\n",
        "            tot = 0\n",
        "            for s in source:\n",
        "                tot += self.translation_probs[(s,t)]\n",
        "            total *= tot\n",
        "\n",
        "        return counts/total\n",
        "\n",
        "        # END SOLUTION\n",
        "\n",
        "    def perplexity(self):\n",
        "        # YOUR SOLUTION HERE\n",
        "        # - Iterate over each pair of sentences in the dataset\n",
        "        # - Call self.probability and compute a sum in log space\n",
        "        # - Feel free to comment this out while testing your initial model\n",
        "        # BEGIN SOLUTION\n",
        "\n",
        "        log_probabilities = []\n",
        "        for source, target in self.data:\n",
        "            log_probabilities.append(math.log(self.probability(source, target), 2))\n",
        "\n",
        "        return 2 ** -np.mean(log_probabilities)\n",
        "\n",
        "        # END SOLUTION\n",
        "\n",
        "    def get_alignment(self, source, target):\n",
        "        # YOUR SOLUTION HERE\n",
        "        # - Find the best word alignment for a source, target pair\n",
        "        # - Output a list of [(source_idx, target_idx)]\n",
        "        #   For example: ([\"ein\", \"buch\"], [\"a\", \"book\"])\n",
        "        #   should have an alignment [(0,0), (1,1)]\n",
        "        # BEGIN SOLUTION\n",
        "\n",
        "        alignment = []\n",
        "        for i, s in enumerate(source):\n",
        "            align = ()\n",
        "            max_prob = 0\n",
        "            for j, t in enumerate(target):\n",
        "                if (s,t) not in self.translation_probs:\n",
        "                    continue\n",
        "\n",
        "                prob = self.translation_probs[(s,t)]\n",
        "                if prob > max_prob:\n",
        "                    align = (i, j)\n",
        "                    max_prob = prob\n",
        "            if max_prob > 0:\n",
        "                alignment.append(align)\n",
        "\n",
        "        return alignment\n",
        "\n",
        "        # END SOLUTION"
      ]
    },
    {
      "cell_type": "code",
      "execution_count": 128,
      "metadata": {},
      "outputs": [
        {
          "name": "stderr",
          "output_type": "stream",
          "text": [
            "100%|██████████| 10/10 [00:00<00:00, 9922.65it/s]"
          ]
        },
        {
          "name": "stdout",
          "output_type": "stream",
          "text": [
            "Iteration: 0 | Perplexity: 4.0\n",
            "Iteration: 1 | Perplexity: 1.0\n",
            "Iteration: 2 | Perplexity: 1.0\n",
            "Iteration: 3 | Perplexity: 1.0\n",
            "Iteration: 4 | Perplexity: 1.0\n",
            "Iteration: 5 | Perplexity: 1.0\n",
            "Iteration: 6 | Perplexity: 1.0\n",
            "Iteration: 7 | Perplexity: 1.0\n",
            "Iteration: 8 | Perplexity: 1.0\n",
            "Iteration: 9 | Perplexity: 1.0\n",
            "Iteration: 10 | Perplexity: 1.0\n"
          ]
        },
        {
          "name": "stderr",
          "output_type": "stream",
          "text": [
            "\n"
          ]
        }
      ],
      "source": [
        "aligned_data = [\n",
        "    ([\"das\", \"haus\"], [\"the\", \"house\"]),\n",
        "    ([\"das\", \"buch\"], [\"the\", \"book\"]),\n",
        "    ([\"ein\", \"buch\"], [\"a\", \"book\"]),\n",
        "]\n",
        "\n",
        "ibm = IBMModel1(aligned_data)\n",
        "ibm.train()\n",
        "assert(ibm.get_alignment([\"ein\", \"buch\"], [\"a\", \"book\"]) == [(0, 0), (1, 1)])\n",
        "with open(\"./saves/example_alignments.pkl\", \"wb\") as outfile:\n",
        "    pickle.dump(ibm.translation_probs, outfile, protocol=pickle.HIGHEST_PROTOCOL)"
      ]
    },
    {
      "cell_type": "markdown",
      "metadata": {
        "id": "Hzo6leZruPdn"
      },
      "source": [
        "## Visualization and Analysis\n",
        "\n",
        "Write code to visualize alignments and rerun the IBM model on a (very slightly larger) toy dataset:"
      ]
    },
    {
      "cell_type": "code",
      "execution_count": 204,
      "metadata": {
        "id": "wjjeWcVLuPdn"
      },
      "outputs": [],
      "source": [
        "def visualize_alignment(source, target, alignment):\n",
        "    # YOUR SOLUTION HERE\n",
        "    # BEGIN ALIGNMENT\n",
        "\n",
        "    length = max(len(source), len(target))\n",
        "\n",
        "    plt.clf()\n",
        "    _, ax = plt.subplots(figsize=(2*length, 5))\n",
        "    ax.set_xlim(-0.5, length-0.5)\n",
        "    ax.set_ylim(-0.5, 1.5)\n",
        "\n",
        "    bbox_props = dict(boxstyle=\"round4,pad=0.3\", fc=\"none\", ec=\"b\", lw=2)\n",
        "    for i, s in enumerate(source):\n",
        "        ax.text(i, 1, s, ha=\"center\", va=\"center\",\n",
        "                size=12, bbox=bbox_props)\n",
        "    for i, t in enumerate(target):\n",
        "        ax.text(i, 0, t, ha=\"center\", va=\"center\",\n",
        "                size=12, bbox=bbox_props)\n",
        "\n",
        "    for s, t in alignment:\n",
        "        ax.annotate(\"\", xy=(t, 0), xycoords='data',\n",
        "                    xytext=(s, 1), textcoords='data',\n",
        "                    arrowprops=dict(\n",
        "                        arrowstyle=\"->\", color=\"k\", lw=2,\n",
        "                        shrinkA=25, shrinkB=25, patchA=None, patchB=None,\n",
        "                        connectionstyle=\"arc3,rad=0\",))\n",
        "\n",
        "    plt.axis('off')\n",
        "    plt.show()\n",
        "\n",
        "    # END ALIGNMENT"
      ]
    },
    {
      "cell_type": "code",
      "execution_count": 147,
      "metadata": {},
      "outputs": [
        {
          "name": "stderr",
          "output_type": "stream",
          "text": [
            "100%|██████████| 1/1 [00:00<00:00, 2082.57it/s]"
          ]
        },
        {
          "name": "stdout",
          "output_type": "stream",
          "text": [
            "Iteration: 0 | Perplexity: 43.08869380063765\n",
            "Iteration: 1 | Perplexity: 2.3973570328492273\n"
          ]
        },
        {
          "name": "stderr",
          "output_type": "stream",
          "text": [
            "\n"
          ]
        },
        {
          "data": {
            "text/plain": [
              "<Figure size 640x480 with 0 Axes>"
            ]
          },
          "metadata": {},
          "output_type": "display_data"
        },
        {
          "data": {
            "image/png": "[encoded data removed]",
            "text/plain": [
              "<Figure size 800x500 with 1 Axes>"
            ]
          },
          "metadata": {},
          "output_type": "display_data"
        }
      ],
      "source": [
        "aligned_data = [\n",
        "    (['klein', 'ist', 'das', 'haus'], ['the', 'house', 'is', 'small']),\n",
        "    (['das', 'haus', 'ist', 'ja', 'groß'], ['the', 'house', 'is', 'big']),\n",
        "    (['das', 'buch', 'ist', 'ja', 'klein'], ['the', 'book', 'is', 'small']),\n",
        "    (['das', 'haus'], ['the', 'house']),\n",
        "    (['das', 'buch'], ['the', 'book']),\n",
        "    (['ein', 'buch'], ['a', 'book'])\n",
        "]\n",
        "ibm = IBMModel1(aligned_data, num_iterations=1)\n",
        "ibm.train()\n",
        "\n",
        "source, target = aligned_data[0]\n",
        "alignment = ibm.get_alignment(source, target)\n",
        "visualize_alignment(source, target, alignment)"
      ]
    },
    {
      "cell_type": "markdown",
      "metadata": {
        "id": "hmxpgwEruPdo"
      },
      "source": [
        "We'll now run the IBM model on a significantly larger dataset to showcase its failure modes:"
      ]
    },
    {
      "cell_type": "code",
      "execution_count": 133,
      "metadata": {
        "execution": {
          "iopub.execute_input": "2022-02-11T20:06:12.446028Z",
          "iopub.status.busy": "2022-02-11T20:06:12.445711Z",
          "iopub.status.idle": "2022-02-11T20:07:21.554165Z",
          "shell.execute_reply": "2022-02-11T20:07:21.553432Z",
          "shell.execute_reply.started": "2022-02-11T20:06:12.445985Z"
        },
        "id": "aWyB-MGduPdo",
        "trusted": true
      },
      "outputs": [],
      "source": [
        "%%capture\n",
        "!pip install sentencepiece\n",
        "\n",
        "import sentencepiece\n",
        "\n",
        "from torchtext.legacy import data\n",
        "from torchtext.legacy import datasets"
      ]
    },
    {
      "cell_type": "code",
      "execution_count": 134,
      "metadata": {
        "execution": {
          "iopub.execute_input": "2022-02-11T20:07:21.556417Z",
          "iopub.status.busy": "2022-02-11T20:07:21.55607Z",
          "iopub.status.idle": "2022-02-11T20:07:26.26864Z",
          "shell.execute_reply": "2022-02-11T20:07:26.267744Z",
          "shell.execute_reply.started": "2022-02-11T20:07:21.556373Z"
        },
        "id": "YtSTfsDwuPdo",
        "trusted": true
      },
      "outputs": [],
      "source": [
        "# Load the Multi30K translation dataset:\n",
        "extensions = [\".de\", \".en\"]\n",
        "source_field = data.Field(tokenize=lambda x: x)\n",
        "target_field = data.Field(tokenize=lambda x: x)\n",
        "training_data, validation_data, test_data = datasets.Multi30k.splits(\n",
        "    extensions, [source_field, target_field], root=\".\")"
      ]
    },
    {
      "cell_type": "code",
      "execution_count": 149,
      "metadata": {
        "execution": {
          "iopub.execute_input": "2022-02-11T20:27:56.558251Z",
          "iopub.status.busy": "2022-02-11T20:27:56.557834Z",
          "iopub.status.idle": "2022-02-11T20:29:20.564518Z",
          "shell.execute_reply": "2022-02-11T20:29:20.563594Z",
          "shell.execute_reply.started": "2022-02-11T20:27:56.5582Z"
        },
        "id": "bSX_GfvquPdo",
        "trusted": true
      },
      "outputs": [
        {
          "name": "stderr",
          "output_type": "stream",
          "text": [
            "100%|██████████| 10/10 [00:56<00:00,  5.63s/it]\n"
          ]
        }
      ],
      "source": [
        "def preprocess(sentence):\n",
        "    sentence = sentence.translate(str.maketrans('', '', string.punctuation)) # strip punctuation\n",
        "    return sentence.strip().lower().split()\n",
        "\n",
        "aligned_data = []\n",
        "for example in training_data[:1000]:\n",
        "    source = preprocess(example.src)\n",
        "    target = preprocess(example.trg)\n",
        "    aligned_data.append((source, target))\n",
        "\n",
        "ibm = IBMModel1(aligned_data, compute_perplexity=False)\n",
        "ibm.train()\n",
        "with open(\"./saves/multi30k_alignments.pkl\", \"wb\") as outfile:\n",
        "    pickle.dump(ibm.translation_probs, outfile, protocol=pickle.HIGHEST_PROTOCOL)"
      ]
    },
    {
      "cell_type": "code",
      "execution_count": 142,
      "metadata": {
        "execution": {
          "iopub.execute_input": "2022-02-11T21:05:19.138073Z",
          "iopub.status.busy": "2022-02-11T21:05:19.137386Z",
          "iopub.status.idle": "2022-02-11T21:05:19.147051Z",
          "shell.execute_reply": "2022-02-11T21:05:19.146357Z",
          "shell.execute_reply.started": "2022-02-11T21:05:19.13803Z"
        },
        "id": "qbXsgzyFuPdp",
        "trusted": true
      },
      "outputs": [
        {
          "name": "stdout",
          "output_type": "stream",
          "text": [
            "('hund', 'dog'): 0.9999999999998458\n",
            "('hund', 'cat'): 0.0\n",
            "('ein', 'a'): 0.9998776447342016\n",
            "('ein', 'the'): 5.461614381029826e-16\n",
            "('frau', 'woman'): 0.9999999999778143\n",
            "('frau', 'man'): 0.0\n"
          ]
        }
      ],
      "source": [
        "# Making sure the model learned something:\n",
        "examples = [\n",
        "    (\"hund\", \"dog\"),\n",
        "    (\"hund\", \"cat\"),\n",
        "    (\"ein\", \"a\"),\n",
        "    (\"ein\", \"the\"),\n",
        "    (\"frau\", \"woman\"),\n",
        "    (\"frau\", \"man\"),\n",
        "]\n",
        "\n",
        "\n",
        "for example in examples:\n",
        "    print(str(example) + \": \" + str(ibm.translation_probs[example]))"
      ]
    },
    {
      "cell_type": "markdown",
      "metadata": {
        "id": "DIwS6lLtuPdp"
      },
      "source": [
        "From this larger dataset: find at least one sentence where the IBM alignment model performs reasonably well, and find another one where it fails catastrophically, and include alignment visualizations for both examples in your report. You may want to consult a [German-English dictionary](https://www.collinsdictionary.com/us/dictionary/english-german) for this part of the problem. Provide a brief explanation for why the alignment model did poorly on the failure case."
      ]
    },
    {
      "attachments": {},
      "cell_type": "markdown",
      "metadata": {},
      "source": [
        "## Submission"
      ]
    },
    {
      "attachments": {},
      "cell_type": "markdown",
      "metadata": {},
      "source": [
        "Turn in the following files on Gradescope:\n",
        "* hw2a.ipynb (this file; please rename to match)\n",
        "* example alignments.pkl\n",
        "* multi30k alignments.pkl\n",
        "\n",
        "Be sure to check the output of the autograder after it runs.  It should confirm that no files are missing and that the output files have the correct format."
      ]
    }
  ],
  "metadata": {
    "colab": {
      "provenance": []
    },
    "kernelspec": {
      "display_name": "Python 3.8.16 ('nlp')",
      "language": "python",
      "name": "python3"
    },
    "language_info": {
      "codemirror_mode": {
        "name": "ipython",
        "version": 3
      },
      "file_extension": ".py",
      "mimetype": "text/x-python",
      "name": "python",
      "nbconvert_exporter": "python",
      "pygments_lexer": "ipython3",
      "version": "3.8.16"
    },
    "vscode": {
      "interpreter": {
        "hash": "154abf72fb8cc0db1aa0e7366557ff891bff86d6d75b7e5f2e68a066d591bfd7"
      }
    }
  },
  "nbformat": 4,
  "nbformat_minor": 0
}
