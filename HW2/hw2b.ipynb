{
  "cells": [
    {
      "cell_type": "markdown",
      "metadata": {
        "id": "CeUOYktpXtOz"
      },
      "source": [
        "# HW2B: Neural Machine Translation"
      ]
    },
    {
      "cell_type": "markdown",
      "metadata": {
        "id": "35m1Uv47jiNX"
      },
      "source": [
        "In this project, you will build a neural machine translation system using modern techniques for sequence-to-sequence modeling. You will first implement a baseline encoder-decoder architecture, then improve upon the baseline by adding an attention mechanism. The end result will be a fully functional translation system capable of translating simple German sentences into English."
      ]
    },
    {
      "cell_type": "markdown",
      "metadata": {
        "id": "acPh_4GwYID0"
      },
      "source": [
        "## Setup"
      ]
    },
    {
      "cell_type": "markdown",
      "metadata": {
        "id": "c7cggO7mjZ5L"
      },
      "source": [
        "First we install and import the required dependencies. These include:\n",
        "* `torch` for modeling and training\n",
        "* `torchtext` for data collection\n",
        "* `sentencepiece` for subword tokenization\n",
        "* `sacrebleu` for BLEU score evaluation"
      ]
    },
    {
      "cell_type": "code",
      "execution_count": 1,
      "metadata": {
        "execution": {
          "iopub.execute_input": "2022-02-11T16:53:01.679089Z",
          "iopub.status.busy": "2022-02-11T16:53:01.678565Z",
          "iopub.status.idle": "2022-02-11T16:54:21.861135Z",
          "shell.execute_reply": "2022-02-11T16:54:21.860352Z",
          "shell.execute_reply.started": "2022-02-11T16:53:01.679051Z"
        },
        "id": "4LV8KY6_unfe",
        "trusted": true
      },
      "outputs": [],
      "source": [
        "# Standard library imports\n",
        "import json\n",
        "import math\n",
        "import random\n",
        "import pdb\n",
        "\n",
        "# Third party imports\n",
        "import tqdm.notebook\n",
        "import matplotlib.pyplot as plt\n",
        "import numpy as np\n",
        "import sacrebleu\n",
        "import sentencepiece\n",
        "import torch\n",
        "import torch.nn as nn\n",
        "import torch.nn.functional as F\n",
        "\n",
        "from torchtext.legacy import data\n",
        "from torchtext.legacy import datasets"
      ]
    },
    {
      "cell_type": "markdown",
      "metadata": {
        "id": "KNT_TURTwIlW"
      },
      "source": [
        "Before proceeding, let's verify that we're connected to a GPU runtime and that `torch` can detect the GPU.\n",
        "We'll define a variable `device` here to use throughout the code so that we can easily change to run on CPU for debugging."
      ]
    },
    {
      "cell_type": "code",
      "execution_count": 2,
      "metadata": {
        "execution": {
          "iopub.execute_input": "2022-02-11T16:54:34.536647Z",
          "iopub.status.busy": "2022-02-11T16:54:34.535901Z",
          "iopub.status.idle": "2022-02-11T16:54:34.583444Z",
          "shell.execute_reply": "2022-02-11T16:54:34.582646Z",
          "shell.execute_reply.started": "2022-02-11T16:54:34.536609Z"
        },
        "id": "KYpIPtqtwVwh",
        "trusted": true
      },
      "outputs": [
        {
          "name": "stdout",
          "output_type": "stream",
          "text": [
            "Found GPU\n"
          ]
        }
      ],
      "source": [
        "if torch.cuda.is_available():\n",
        "    print(\"Found GPU\")\n",
        "    device = \"cuda\"\n",
        "else:\n",
        "    print(\"Did not find GPU\")\n",
        "    device = \"cpu\""
      ]
    },
    {
      "cell_type": "markdown",
      "metadata": {
        "id": "ANK-5cMtYSyH"
      },
      "source": [
        "## Data"
      ]
    },
    {
      "cell_type": "markdown",
      "metadata": {
        "id": "We4sTUA5j0Ab"
      },
      "source": [
        "The data for this assignment comes from the [Multi30K dataset](https://arxiv.org/abs/1605.00459), which contains English and German captions for images from Flickr. We can download and unpack it using `torchtext`. We use the Multi30K dataset because it is simpler than standard translation benchmark datasets and allows for models to be trained and evaluated in a matter of minutes rather than days.\n",
        "\n",
        "We will be translating from German to English in this assignment, but the same techniques apply equally well to any language pair.\n",
        "\n"
      ]
    },
    {
      "cell_type": "code",
      "execution_count": 3,
      "metadata": {
        "execution": {
          "iopub.execute_input": "2022-02-11T16:54:37.995552Z",
          "iopub.status.busy": "2022-02-11T16:54:37.994812Z",
          "iopub.status.idle": "2022-02-11T16:54:40.102687Z",
          "shell.execute_reply": "2022-02-11T16:54:40.101989Z",
          "shell.execute_reply.started": "2022-02-11T16:54:37.995514Z"
        },
        "id": "Gr9PbArCvCT0",
        "trusted": true
      },
      "outputs": [],
      "source": [
        "extensions = [\".de\", \".en\"]\n",
        "source_field = data.Field(tokenize=lambda x: x)\n",
        "target_field = data.Field(tokenize=lambda x: x)\n",
        "training_data, validation_data, test_data = datasets.Multi30k.splits(\n",
        "    extensions, [source_field, target_field], root=\".\")"
      ]
    },
    {
      "cell_type": "markdown",
      "metadata": {
        "id": "v4aSFr-hmKpw"
      },
      "source": [
        "Now that we have the data, let's see how large each split is and look at a few examples."
      ]
    },
    {
      "cell_type": "code",
      "execution_count": 4,
      "metadata": {
        "execution": {
          "iopub.execute_input": "2022-02-11T16:54:43.285455Z",
          "iopub.status.busy": "2022-02-11T16:54:43.284983Z",
          "iopub.status.idle": "2022-02-11T16:54:43.296962Z",
          "shell.execute_reply": "2022-02-11T16:54:43.295754Z",
          "shell.execute_reply.started": "2022-02-11T16:54:43.285417Z"
        },
        "id": "W1owrfI1xjby",
        "trusted": true
      },
      "outputs": [
        {
          "name": "stdout",
          "output_type": "stream",
          "text": [
            "Number of training examples: 29000\n",
            "Number of validation examples: 1014\n",
            "Number of test examples: 1000\n",
            "\n",
            "Zwei junge weiße Männer sind im Freien in der Nähe vieler Büsche.\n",
            "Two young, White males are outside near many bushes.\n",
            "\n",
            "Mehrere Männer mit Schutzhelmen bedienen ein Antriebsradsystem.\n",
            "Several men in hard hats are operating a giant pulley system.\n",
            "\n",
            "Ein kleines Mädchen klettert in ein Spielhaus aus Holz.\n",
            "A little girl climbing into a wooden playhouse.\n",
            "\n",
            "Ein Mann in einem blauen Hemd steht auf einer Leiter und putzt ein Fenster.\n",
            "A man in a blue shirt is standing on a ladder cleaning a window.\n",
            "\n",
            "Zwei Männer stehen am Herd und bereiten Essen zu.\n",
            "Two men are at the stove preparing food.\n",
            "\n",
            "Ein Mann in grün hält eine Gitarre, während der andere Mann sein Hemd ansieht.\n",
            "A man in green holds a guitar while the other man observes his shirt.\n",
            "\n",
            "Ein Mann lächelt einen ausgestopften Löwen an.\n",
            "A man is smiling at a stuffed lion\n",
            "\n",
            "Ein schickes Mädchen spricht mit dem Handy während sie langsam die Straße entlangschwebt.\n",
            "A trendy girl talking on her cellphone while gliding slowly down the street.\n",
            "\n",
            "Eine Frau mit einer großen Geldbörse geht an einem Tor vorbei.\n",
            "A woman with a large purse is walking by a gate.\n",
            "\n",
            "Jungen tanzen mitten in der Nacht auf Pfosten.\n",
            "Boys dancing on poles in the middle of the night.\n",
            "\n"
          ]
        }
      ],
      "source": [
        "print(\"Number of training examples:\", len(training_data))\n",
        "print(\"Number of validation examples:\", len(validation_data))\n",
        "print(\"Number of test examples:\", len(test_data))\n",
        "print()\n",
        "\n",
        "for example in training_data[:10]:\n",
        "    print(example.src)\n",
        "    print(example.trg)\n",
        "    print()"
      ]
    },
    {
      "cell_type": "markdown",
      "metadata": {
        "id": "k1aBbR3snOjV"
      },
      "source": [
        "## Vocabulary"
      ]
    },
    {
      "cell_type": "markdown",
      "metadata": {
        "id": "5Mo0tnIbnQz8"
      },
      "source": [
        "We can use `sentencepiece` to create a joint German-English subword vocabulary from the training corpus. Because the number of training examples is small, we choose a smaller vocabulary size than would be used for large-scale NMT."
      ]
    },
    {
      "cell_type": "code",
      "execution_count": 5,
      "metadata": {
        "execution": {
          "iopub.execute_input": "2022-02-11T16:54:57.410711Z",
          "iopub.status.busy": "2022-02-11T16:54:57.40918Z",
          "iopub.status.idle": "2022-02-11T16:55:02.186524Z",
          "shell.execute_reply": "2022-02-11T16:55:02.185532Z",
          "shell.execute_reply.started": "2022-02-11T16:54:57.410677Z"
        },
        "id": "8xSUaso9vo1V",
        "trusted": true
      },
      "outputs": [
        {
          "name": "stderr",
          "output_type": "stream",
          "text": [
            "sentencepiece_trainer.cc(177) LOG(INFO) Running command: --pad_id=0 --bos_id=1 --eos_id=2 --unk_id=3 --input=multi30k/train.de,multi30k/train.en --vocab_size=8000 --model_prefix=multi30k\n",
            "sentencepiece_trainer.cc(77) LOG(INFO) Starts training with : \n",
            "trainer_spec {\n",
            "  input: multi30k/train.de\n",
            "  input: multi30k/train.en\n",
            "  input_format: \n",
            "  model_prefix: multi30k\n",
            "  model_type: UNIGRAM\n",
            "  vocab_size: 8000\n",
            "  self_test_sample_size: 0\n",
            "  character_coverage: 0.9995\n",
            "  input_sentence_size: 0\n",
            "  shuffle_input_sentence: 1\n",
            "  seed_sentencepiece_size: 1000000\n",
            "  shrinking_factor: 0.75\n",
            "  max_sentence_length: 4192\n",
            "  num_threads: 16\n",
            "  num_sub_iterations: 2\n",
            "  max_sentencepiece_length: 16\n",
            "  split_by_unicode_script: 1\n",
            "  split_by_number: 1\n",
            "  split_by_whitespace: 1\n",
            "  split_digits: 0\n",
            "  treat_whitespace_as_suffix: 0\n",
            "  allow_whitespace_only_pieces: 0\n",
            "  required_chars: \n",
            "  byte_fallback: 0\n",
            "  vocabulary_output_piece_score: 1\n",
            "  train_extremely_large_corpus: 0\n",
            "  hard_vocab_limit: 1\n",
            "  use_all_vocab: 0\n",
            "  unk_id: 3\n",
            "  bos_id: 1\n",
            "  eos_id: 2\n",
            "  pad_id: 0\n",
            "  unk_piece: <unk>\n",
            "  bos_piece: <s>\n",
            "  eos_piece: </s>\n",
            "  pad_piece: <pad>\n",
            "  unk_surface:  ⁇ \n",
            "  enable_differential_privacy: 0\n",
            "  differential_privacy_noise_level: 0\n",
            "  differential_privacy_clipping_threshold: 0\n",
            "}\n",
            "normalizer_spec {\n",
            "  name: nmt_nfkc\n",
            "  add_dummy_prefix: 1\n",
            "  remove_extra_whitespaces: 1\n",
            "  escape_whitespaces: 1\n",
            "  normalization_rule_tsv: \n",
            "}\n",
            "denormalizer_spec {}\n",
            "trainer_interface.cc(350) LOG(INFO) SentenceIterator is not specified. Using MultiFileSentenceIterator.\n",
            "trainer_interface.cc(181) LOG(INFO) Loading corpus: multi30k/train.de\n",
            "trainer_interface.cc(181) LOG(INFO) Loading corpus: multi30k/train.en\n",
            "trainer_interface.cc(406) LOG(INFO) Loaded all 58000 sentences\n",
            "trainer_interface.cc(422) LOG(INFO) Adding meta_piece: <pad>\n",
            "trainer_interface.cc(422) LOG(INFO) Adding meta_piece: <s>\n",
            "trainer_interface.cc(422) LOG(INFO) Adding meta_piece: </s>\n",
            "trainer_interface.cc(422) LOG(INFO) Adding meta_piece: <unk>\n",
            "trainer_interface.cc(427) LOG(INFO) Normalizing sentences...\n",
            "trainer_interface.cc(536) LOG(INFO) all chars count=3877107\n",
            "trainer_interface.cc(547) LOG(INFO) Done: 99.9537% characters are covered.\n",
            "trainer_interface.cc(557) LOG(INFO) Alphabet size=60\n",
            "trainer_interface.cc(558) LOG(INFO) Final character coverage=0.999537\n",
            "trainer_interface.cc(590) LOG(INFO) Done! preprocessed 58000 sentences.\n",
            "unigram_model_trainer.cc(146) LOG(INFO) Making suffix array...\n",
            "unigram_model_trainer.cc(150) LOG(INFO) Extracting frequent sub strings...\n",
            "unigram_model_trainer.cc(201) LOG(INFO) Initialized 81782 seed sentencepieces\n",
            "trainer_interface.cc(596) LOG(INFO) Tokenizing input sentences with whitespace: 58000\n",
            "trainer_interface.cc(607) LOG(INFO) Done! 39388\n",
            "unigram_model_trainer.cc(491) LOG(INFO) Using 39388 sentences for EM training\n",
            "unigram_model_trainer.cc(507) LOG(INFO) EM sub_iter=0 size=24756 obj=10.2757 num_tokens=79134 num_tokens/piece=3.19656\n",
            "unigram_model_trainer.cc(507) LOG(INFO) EM sub_iter=1 size=20873 obj=8.08679 num_tokens=79533 num_tokens/piece=3.81033\n",
            "unigram_model_trainer.cc(507) LOG(INFO) EM sub_iter=0 size=15643 obj=8.06956 num_tokens=85616 num_tokens/piece=5.47312\n",
            "unigram_model_trainer.cc(507) LOG(INFO) EM sub_iter=1 size=15631 obj=8.0436 num_tokens=85636 num_tokens/piece=5.4786\n",
            "unigram_model_trainer.cc(507) LOG(INFO) EM sub_iter=0 size=11723 obj=8.15945 num_tokens=95700 num_tokens/piece=8.16344\n",
            "unigram_model_trainer.cc(507) LOG(INFO) EM sub_iter=1 size=11723 obj=8.13212 num_tokens=95743 num_tokens/piece=8.16711\n",
            "unigram_model_trainer.cc(507) LOG(INFO) EM sub_iter=0 size=8799 obj=8.29963 num_tokens=107482 num_tokens/piece=12.2153\n",
            "unigram_model_trainer.cc(507) LOG(INFO) EM sub_iter=1 size=8799 obj=8.26952 num_tokens=107489 num_tokens/piece=12.216\n",
            "trainer_interface.cc(685) LOG(INFO) Saving model: multi30k.model\n",
            "trainer_interface.cc(697) LOG(INFO) Saving vocabs: multi30k.vocab\n"
          ]
        }
      ],
      "source": [
        "args = {\n",
        "    \"pad_id\": 0,\n",
        "    \"bos_id\": 1,\n",
        "    \"eos_id\": 2,\n",
        "    \"unk_id\": 3,\n",
        "    \"input\": \"multi30k/train.de,multi30k/train.en\",\n",
        "    \"vocab_size\": 8000,\n",
        "    \"model_prefix\": \"multi30k\",\n",
        "}\n",
        "combined_args = \" \".join(\n",
        "    \"--{}={}\".format(key, value) for key, value in args.items())\n",
        "sentencepiece.SentencePieceTrainer.Train(combined_args)"
      ]
    },
    {
      "cell_type": "markdown",
      "metadata": {
        "id": "ox_6NYWCoydJ"
      },
      "source": [
        "This creates two files: `multi30k.model` and `multi30k.vocab`. The first is a binary file containing the relevant data for the vocabulary. The second is a human-readable listing of each subword and its associated score."
      ]
    },
    {
      "cell_type": "markdown",
      "metadata": {
        "id": "HNQVI82Lpt9S"
      },
      "source": [
        "We can preview the contents of the vocabulary by looking at the first few rows from the human-readable file."
      ]
    },
    {
      "cell_type": "code",
      "execution_count": 6,
      "metadata": {
        "execution": {
          "iopub.execute_input": "2022-02-11T16:55:07.99789Z",
          "iopub.status.busy": "2022-02-11T16:55:07.997608Z",
          "iopub.status.idle": "2022-02-11T16:55:08.659461Z",
          "shell.execute_reply": "2022-02-11T16:55:08.658622Z",
          "shell.execute_reply.started": "2022-02-11T16:55:07.99786Z"
        },
        "id": "Xj-OHYlppX4N",
        "trusted": true
      },
      "outputs": [
        {
          "name": "stdout",
          "output_type": "stream",
          "text": [
            "<pad>\t0\n",
            "<s>\t0\n",
            "</s>\t0\n",
            "<unk>\t0\n",
            ".\t-2.72609\n",
            "▁a\t-3.21346\n",
            "▁in\t-3.43865\n",
            "m\t-3.79337\n",
            "▁eine\t-3.82216\n",
            "▁A\t-3.86943\n",
            "s\t-4.09557\n",
            "▁Ein\t-4.11305\n",
            ",\t-4.20296\n",
            "▁the\t-4.35109\n",
            "▁und\t-4.56932\n",
            "▁mit\t-4.57803\n",
            "▁auf\t-4.58033\n",
            "▁on\t-4.65582\n",
            "n\t-4.69437\n",
            "▁Mann\t-4.70412\n",
            "▁is\t-4.73883\n",
            "▁man\t-4.75221\n",
            "▁and\t-4.76296\n",
            "▁\t-4.78086\n",
            "ing\t-4.81203\n",
            "▁of\t-4.83235\n",
            "▁einer\t-4.86287\n",
            "▁with\t-4.93317\n",
            "▁Eine\t-4.98758\n",
            "▁ein\t-5.11922\n"
          ]
        }
      ],
      "source": [
        "!head -n 30 multi30k.vocab"
      ]
    },
    {
      "cell_type": "markdown",
      "metadata": {
        "id": "TBGuw-18qjsB"
      },
      "source": [
        "As we can see, the vocabulary consists of four special tokens (`<pad>` for padding, `<s>` for beginning of sentence (BOS), `</s>` for end of sentence (EOS), `<unk>` for unknown) and a mixture of German and English words and subwords. In order to ensure reversability, word boundaries are encoded with a special unicode character \"▁\" (U+2581)."
      ]
    },
    {
      "cell_type": "markdown",
      "metadata": {
        "id": "GlBIoN4aragA"
      },
      "source": [
        "To use the vocabulary, we first need to load it from the binary file produced above."
      ]
    },
    {
      "cell_type": "code",
      "execution_count": 7,
      "metadata": {
        "execution": {
          "iopub.execute_input": "2022-02-11T16:55:12.418249Z",
          "iopub.status.busy": "2022-02-11T16:55:12.417975Z",
          "iopub.status.idle": "2022-02-11T16:55:12.445914Z",
          "shell.execute_reply": "2022-02-11T16:55:12.445218Z",
          "shell.execute_reply.started": "2022-02-11T16:55:12.418221Z"
        },
        "id": "SJYzMQxfvrr0",
        "trusted": true
      },
      "outputs": [
        {
          "data": {
            "text/plain": [
              "True"
            ]
          },
          "execution_count": 7,
          "metadata": {},
          "output_type": "execute_result"
        }
      ],
      "source": [
        "vocab = sentencepiece.SentencePieceProcessor()\n",
        "vocab.Load(\"multi30k.model\")"
      ]
    },
    {
      "cell_type": "markdown",
      "metadata": {
        "id": "1sLfI6vDriWK"
      },
      "source": [
        "The vocabulary object includes a number of methods for working with full sequences or individual pieces. We explore the most relevant ones below. A complete interface can be found on [GitHub](https://github.com/google/sentencepiece/tree/master/python#usage) for reference."
      ]
    },
    {
      "cell_type": "code",
      "execution_count": 8,
      "metadata": {
        "execution": {
          "iopub.execute_input": "2022-02-11T16:55:31.858906Z",
          "iopub.status.busy": "2022-02-11T16:55:31.85863Z",
          "iopub.status.idle": "2022-02-11T16:55:31.871464Z",
          "shell.execute_reply": "2022-02-11T16:55:31.870505Z",
          "shell.execute_reply.started": "2022-02-11T16:55:31.858876Z"
        },
        "id": "eC4S6WBCsjOW",
        "trusted": true
      },
      "outputs": [
        {
          "name": "stdout",
          "output_type": "stream",
          "text": [
            "Vocabulary size: 8000\n",
            "\n",
            "Two young, White males are outside near many bushes.\n",
            "['▁Two', '▁young', ',', '▁White', '▁males', '▁are', '▁outside', '▁near', '▁many', '▁bushes', '.']\n",
            "Two young, White males are outside near many bushes.\n",
            "[42, 54, 12, 2897, 2218, 36, 127, 173, 818, 3524, 4]\n",
            "Two young, White males are outside near many bushes.\n",
            "\n",
            "Several men in hard hats are operating a giant pulley system.\n",
            "['▁Se', 'veral', '▁men', '▁in', '▁hard', '▁hats', '▁are', '▁operating', '▁a', '▁g', 'iant', '▁pull', 'e', 'y', '▁s', 'y', 'ste', 'm', '.']\n",
            "Several men in hard hats are operating a giant pulley system.\n",
            "[297, 239, 73, 6, 710, 723, 36, 3116, 5, 668, 1681, 582, 32, 97, 524, 97, 1085, 7, 4]\n",
            "Several men in hard hats are operating a giant pulley system.\n",
            "\n",
            "A little girl climbing into a wooden playhouse.\n",
            "['▁A', '▁little', '▁girl', '▁climbing', '▁in', 'to', '▁a', '▁wooden', '▁play', 'house', '.']\n",
            "A little girl climbing into a wooden playhouse.\n",
            "[9, 133, 66, 500, 6, 109, 5, 540, 244, 4639, 4]\n",
            "A little girl climbing into a wooden playhouse.\n",
            "\n",
            "▁the\n",
            "13\n",
            "▁the\n"
          ]
        }
      ],
      "source": [
        "print(\"Vocabulary size:\", vocab.GetPieceSize())\n",
        "print()\n",
        "\n",
        "for example in training_data[:3]:\n",
        "    sentence = example.trg\n",
        "    pieces = vocab.EncodeAsPieces(sentence)\n",
        "    indices = vocab.EncodeAsIds(sentence)\n",
        "    print(sentence)\n",
        "    print(pieces)\n",
        "    print(vocab.DecodePieces(pieces))\n",
        "    print(indices)\n",
        "    print(vocab.DecodeIds(indices))\n",
        "    print()\n",
        "\n",
        "piece = vocab.EncodeAsPieces(\"the\")[0]\n",
        "index = vocab.PieceToId(piece)\n",
        "print(piece)\n",
        "print(index)\n",
        "print(vocab.IdToPiece(index))"
      ]
    },
    {
      "cell_type": "markdown",
      "metadata": {
        "id": "qsxRb6TOVHn5"
      },
      "source": [
        "We define some constants here for the first three special tokens that you may find useful in the following sections."
      ]
    },
    {
      "cell_type": "code",
      "execution_count": 9,
      "metadata": {
        "execution": {
          "iopub.execute_input": "2022-02-11T16:56:05.284445Z",
          "iopub.status.busy": "2022-02-11T16:56:05.283898Z",
          "iopub.status.idle": "2022-02-11T16:56:05.288519Z",
          "shell.execute_reply": "2022-02-11T16:56:05.287565Z",
          "shell.execute_reply.started": "2022-02-11T16:56:05.284408Z"
        },
        "id": "xheKi30BVVJC",
        "trusted": true
      },
      "outputs": [],
      "source": [
        "pad_id = vocab.PieceToId(\"<pad>\")\n",
        "bos_id = vocab.PieceToId(\"<s>\")\n",
        "eos_id = vocab.PieceToId(\"</s>\")"
      ]
    },
    {
      "cell_type": "markdown",
      "metadata": {
        "id": "hI8olw4LapHZ"
      },
      "source": [
        "Note that these tokens will be stripped from the output when converting from word pieces to text. This may be helpful when implementing greedy search and beam search."
      ]
    },
    {
      "cell_type": "code",
      "execution_count": 10,
      "metadata": {
        "execution": {
          "iopub.execute_input": "2022-02-11T16:56:09.674152Z",
          "iopub.status.busy": "2022-02-11T16:56:09.673386Z",
          "iopub.status.idle": "2022-02-11T16:56:09.682714Z",
          "shell.execute_reply": "2022-02-11T16:56:09.681868Z",
          "shell.execute_reply.started": "2022-02-11T16:56:09.674104Z"
        },
        "id": "mv6i28CVa0O9",
        "trusted": true
      },
      "outputs": [
        {
          "name": "stdout",
          "output_type": "stream",
          "text": [
            "Two young, White males are outside near many bushes.\n",
            "Two young, White males are outside near many bushes.\n",
            "True\n"
          ]
        }
      ],
      "source": [
        "sentence = training_data[0].trg\n",
        "indices = vocab.EncodeAsIds(sentence)\n",
        "indices_augmented = [bos_id] + indices + [eos_id, pad_id, pad_id, pad_id]\n",
        "print(vocab.DecodeIds(indices))\n",
        "print(vocab.DecodeIds(indices_augmented))\n",
        "print(vocab.DecodeIds(indices) == vocab.DecodeIds(indices_augmented))"
      ]
    },
    {
      "cell_type": "markdown",
      "metadata": {
        "id": "KiSPP3tdyaid"
      },
      "source": [
        "## Baseline sequence-to-sequence model"
      ]
    },
    {
      "cell_type": "markdown",
      "metadata": {
        "id": "7g-Ncq5zxhvB"
      },
      "source": [
        "With our data and vocabulary loaded, we're now ready to build a baseline sequence-to-sequence model.  Later on we'll add an attention mechanism to the model."
      ]
    },
    {
      "cell_type": "markdown",
      "metadata": {
        "id": "7xIg5y_xynkU"
      },
      "source": [
        "Let's begin by defining a batch iterator for the training data. Given a dataset and a batch size, it will iterate over the dataset and yield pairs of tensors containing the subword indices for the source and target sentences in the batch, respectively.  Fill in `make_batch` below."
      ]
    },
    {
      "cell_type": "code",
      "execution_count": 11,
      "metadata": {},
      "outputs": [
        {
          "name": "stdout",
          "output_type": "stream",
          "text": [
            "Example batch tensor:\n",
            "tensor([[   1,    1],\n",
            "        [   5,    5],\n",
            "        [3980,  352],\n",
            "        [   6,   60],\n",
            "        [ 234,    6],\n",
            "        [ 760,  234],\n",
            "        [   2,  760],\n",
            "        [   0, 5335],\n",
            "        [   0,   13],\n",
            "        [   0, 3769],\n",
            "        [   0,    2]], device='cuda:0')\n"
          ]
        }
      ],
      "source": [
        "def make_batch(sentences):\n",
        "    \"\"\"Convert a list of sentences into a batch of subword indices.\n",
        "\n",
        "    Args:\n",
        "        sentences: A list of sentences, each of which is a string.\n",
        "\n",
        "    Returns:\n",
        "        A LongTensor of size (max_sequence_length, batch_size) containing the\n",
        "        subword indices for the sentences, where max_sequence_length is the length\n",
        "        of the longest sentence as encoded by the subword vocabulary and batch_size\n",
        "        is the number of sentences in the batch. A beginning-of-sentence token\n",
        "        should be included before each sequence, and an end-of-sentence token should\n",
        "        be included after each sequence. Empty slots at the end of shorter sequences\n",
        "        should be filled with padding tokens. The tensor should be located on the\n",
        "        device defined at the beginning of the notebook.\n",
        "    \"\"\"\n",
        "\n",
        "    # Implementation tip: You can use the nn.utils.rnn.pad_sequence utility\n",
        "    # function to combine a list of variable-length sequences with padding.\n",
        "\n",
        "    # BEGIN SOLUTION\n",
        "\n",
        "    tensors = []\n",
        "    for sentence in sentences:\n",
        "        indices = vocab.EncodeAsIds(sentence)\n",
        "        indices_augmented = [bos_id] + indices + [eos_id]\n",
        "        tensors.append(torch.tensor(indices_augmented, dtype=torch.long, device=device))\n",
        "\n",
        "    return nn.utils.rnn.pad_sequence(tensors, padding_value=pad_id)\n",
        "\n",
        "    # END SOLUTION\n",
        "\n",
        "def make_batch_iterator(dataset, batch_size, shuffle=False):\n",
        "    \"\"\"Make a batch iterator that yields source-target pairs.\n",
        "\n",
        "    Args:\n",
        "        dataset: A torchtext dataset object.\n",
        "        batch_size: An integer batch size.\n",
        "        shuffle: A boolean indicating whether to shuffle the examples.\n",
        "\n",
        "    Yields:\n",
        "        Pairs of tensors constructed by calling the make_batch function on the\n",
        "        source and target sentences in the current group of examples. The max\n",
        "        sequence length can differ between the source and target tensor, but the\n",
        "        batch size will be the same. The final batch may be smaller than the given\n",
        "        batch size.\n",
        "    \"\"\"\n",
        "\n",
        "    examples = list(dataset)\n",
        "    if shuffle:\n",
        "        random.shuffle(examples)\n",
        "\n",
        "    for start_index in range(0, len(examples), batch_size):\n",
        "        example_batch = examples[start_index:start_index + batch_size]\n",
        "        source_sentences = [example.src for example in example_batch]\n",
        "        target_sentences = [example.trg for example in example_batch]\n",
        "        yield make_batch(source_sentences), make_batch(target_sentences)\n",
        "\n",
        "test_batch = make_batch([\"a test input\", \"a longer input than the first\"])\n",
        "print(\"Example batch tensor:\")\n",
        "print(test_batch)\n",
        "assert test_batch.shape[1] == 2\n",
        "assert test_batch[0, 0] == bos_id\n",
        "assert test_batch[0, 1] == bos_id\n",
        "assert test_batch[-1, 0] == pad_id\n",
        "assert test_batch[-1, 1] == eos_id"
      ]
    },
    {
      "cell_type": "markdown",
      "metadata": {
        "id": "gGIIy0230Zdc"
      },
      "source": [
        "Now we will define the model itself. It should consist of a bidirectional LSTM encoder that encodes the input sentence into a fixed-size representation, and an LSTM decoder that uses this representation to produce the output sentence."
      ]
    },
    {
      "cell_type": "code",
      "execution_count": 78,
      "metadata": {
        "execution": {
          "iopub.execute_input": "2022-02-11T16:57:28.75044Z",
          "iopub.status.busy": "2022-02-11T16:57:28.75018Z",
          "iopub.status.idle": "2022-02-11T16:57:28.892809Z",
          "shell.execute_reply": "2022-02-11T16:57:28.891883Z",
          "shell.execute_reply.started": "2022-02-11T16:57:28.750412Z"
        },
        "id": "Dz3pUko2L8Fj",
        "trusted": true
      },
      "outputs": [],
      "source": [
        "class Seq2seqBaseline(nn.Module):\n",
        "    def __init__(self, input_size, hidden_size, num_layers, dropout=0.5, bidirectional=True):\n",
        "        super().__init__()\n",
        "\n",
        "        # Initialize your model's parameters here. To get started, we suggest\n",
        "        # setting all embedding and hidden dimensions to 256, using encoder and\n",
        "        # decoder LSTMs with 2 layers, and using a dropout rate of 0.5.\n",
        "\n",
        "        # Implementation tip: To create a bidirectional LSTM, you don't need to\n",
        "        # create two LSTM networks. Instead use nn.LSTM(..., bidirectional=True).\n",
        "\n",
        "        # BEGIN SOLUTION\n",
        "\n",
        "        self.embedding = nn.Embedding(input_size, hidden_size)\n",
        "        self.encoder = nn.LSTM(hidden_size, hidden_size,\n",
        "            num_layers=num_layers, dropout=dropout, bidirectional=bidirectional)\n",
        "        self.decoder = nn.LSTM(hidden_size, hidden_size,\n",
        "            num_layers=num_layers, dropout=dropout)\n",
        "        self.final_layer = nn.Linear(hidden_size, input_size)\n",
        "\n",
        "        # END SOLUTION\n",
        "\n",
        "    def encode(self, source):\n",
        "        \"\"\"Encode the source batch using a bidirectional LSTM encoder.\n",
        "\n",
        "        Args:\n",
        "            source: An integer tensor with shape (max_source_sequence_length,\n",
        "                batch_size) containing subword indices for the source sentences.\n",
        "\n",
        "        Returns:\n",
        "            A tuple with three elements:\n",
        "                encoder_output: The output of the bidirectional LSTM with shape\n",
        "                    (max_source_sequence_length, batch_size, 2 * hidden_size).\n",
        "                encoder_mask: A boolean tensor with shape (max_source_sequence_length,\n",
        "                    batch_size) indicating which encoder outputs correspond to padding\n",
        "                    tokens. Its elements should be True at positions corresponding to\n",
        "                    padding tokens and False elsewhere.\n",
        "                encoder_hidden: The final hidden states of the bidirectional LSTM (after\n",
        "                    a suitable projection) that will be used to initialize the decoder.\n",
        "                    This should be a pair of tensors (h_n, c_n), each with shape\n",
        "                    (num_layers, batch_size, hidden_size). Note that the hidden state\n",
        "                    returned by the LSTM cannot be used directly. Its initial dimension is\n",
        "                    twice the required size because it contains state from two directions.\n",
        "\n",
        "        The first two return values are not required for the baseline model and will\n",
        "        only be used later in the attention model. If desired, they can be replaced\n",
        "        with None for the initial implementation.\n",
        "        \"\"\"\n",
        "\n",
        "        # Implementation tip: consider using packed sequences to more easily work\n",
        "        # with the variable-length sequences represented by the source tensor.\n",
        "        # See https://pytorch.org/docs/stable/nn.html#torch.nn.utils.rnn.PackedSequence.\n",
        "\n",
        "        # Implementation tip: there are many simple ways to combine the forward\n",
        "        # and backward portions of the final hidden state, e.g. addition, averaging,\n",
        "        # or a linear transformation of the appropriate size. Any of these\n",
        "        # should let you reach the required performance.\n",
        "\n",
        "        # Compute a tensor containing the length of each source sequence.\n",
        "        lengths = torch.sum(source != pad_id, axis=0)\n",
        "\n",
        "        # BEGIN SOLUTION\n",
        "\n",
        "        embeddings = self.embedding(source)\n",
        "        output, (h_n, c_n) = self.encoder(embeddings)\n",
        "\n",
        "        h_n = h_n.view(-1, 2, *h_n.shape[1:])\n",
        "        c_n = c_n.view(-1, 2, *c_n.shape[1:])\n",
        "\n",
        "        return output, source == pad_id, (h_n.mean(dim=1), c_n.mean(dim=1))\n",
        "    \n",
        "        # END SOLUTION\n",
        "\n",
        "    def decode(self, decoder_input, initial_hidden, encoder_output, encoder_mask):\n",
        "        \"\"\"Run the decoder LSTM starting from an initial hidden state.\n",
        "\n",
        "        The third and fourth arguments are not used in the baseline model, but are\n",
        "        included for compatibility with the attention model in the next section.\n",
        "\n",
        "        Args:\n",
        "            decoder_input: An integer tensor with shape (max_decoder_sequence_length,\n",
        "                batch_size) containing the subword indices for the decoder input. During\n",
        "                evaluation, where decoding proceeds one step at a time, the initial\n",
        "                dimension should be 1.\n",
        "            initial_hidden: A pair of tensors (h_0, c_0) representing the initial\n",
        "                state of the decoder, each with shape (num_layers, batch_size,\n",
        "                hidden_size).\n",
        "            encoder_output: The output of the encoder with shape\n",
        "                (max_source_sequence_length, batch_size, 2 * hidden_size).\n",
        "            encoder_mask: The output mask from the encoder with shape\n",
        "                (max_source_sequence_length, batch_size). Encoder outputs at positions\n",
        "                with a True value correspond to padding tokens and should be ignored.\n",
        "\n",
        "        Returns:\n",
        "            A tuple with three elements:\n",
        "                logits: A tensor with shape (max_decoder_sequence_length, batch_size,\n",
        "                    vocab_size) containing unnormalized scores for the next-word\n",
        "                    predictions at each position.\n",
        "                decoder_hidden: A pair of tensors (h_n, c_n) with the same shape as\n",
        "                    initial_hidden representing the updated decoder state after processing\n",
        "                    the decoder input.\n",
        "                attention_weights: This will be implemented later in the attention\n",
        "                    model, but in order to maintain compatible type signatures, we also\n",
        "                    include it here. This can be None or any other placeholder value.\n",
        "        \"\"\"\n",
        "\n",
        "        # These arguments are not used in the baseline model.\n",
        "        del encoder_output\n",
        "        del encoder_mask\n",
        "\n",
        "        # BEGIN SOLUTION\n",
        "\n",
        "        embeddings = self.embedding(decoder_input)\n",
        "        output, hidden = self.decoder(embeddings, initial_hidden)\n",
        "        logits = self.final_layer(output)\n",
        "\n",
        "        return logits, hidden, None\n",
        "    \n",
        "        # END SOLUTION\n",
        "\n",
        "    def compute_loss(self, source, target):\n",
        "        \"\"\"Run the model on the source and compute the loss on the target.\n",
        "\n",
        "        Args:\n",
        "            source: An integer tensor with shape (max_source_sequence_length,\n",
        "                batch_size) containing subword indices for the source sentences.\n",
        "            target: An integer tensor with shape (max_target_sequence_length,\n",
        "                batch_size) containing subword indices for the target sentences.\n",
        "\n",
        "        Returns:\n",
        "            A scalar float tensor representing cross-entropy loss on the current batch.\n",
        "        \"\"\"\n",
        "\n",
        "        # Implementation tip: don't feed the target tensor directly to the decoder.\n",
        "        # To see why, note that for a target sequence like <s> A B C </s>, you would\n",
        "        # want to run the decoder on the prefix <s> A B C and have it predict the\n",
        "        # suffix A B C </s>.\n",
        "\n",
        "        # BEGIN SOLUTION\n",
        "\n",
        "        encoder_output, encoder_mask, encoder_hidden = self.encode(source)\n",
        "        logits, _, _ = self.decode(\n",
        "            target[:-1, :], encoder_hidden, encoder_output, encoder_mask\n",
        "        )\n",
        "\n",
        "        return F.cross_entropy(\n",
        "            logits.view(-1, logits.shape[-1]),\n",
        "            target[1:, :].view(-1)\n",
        "        )\n",
        "\n",
        "        # END SOLUTION"
      ]
    },
    {
      "cell_type": "markdown",
      "metadata": {
        "id": "jx9jJQb58nUY"
      },
      "source": [
        "We define the following functions for training.  This code will run as provided, but you are welcome to modify the training loop to adjust the optimizer settings, add learning rate decay, etc."
      ]
    },
    {
      "cell_type": "code",
      "execution_count": 13,
      "metadata": {
        "execution": {
          "iopub.execute_input": "2022-02-11T16:57:48.710174Z",
          "iopub.status.busy": "2022-02-11T16:57:48.709634Z",
          "iopub.status.idle": "2022-02-11T16:57:48.72508Z",
          "shell.execute_reply": "2022-02-11T16:57:48.724356Z",
          "shell.execute_reply.started": "2022-02-11T16:57:48.710129Z"
        },
        "id": "VKc1pwaZzcUN",
        "trusted": true
      },
      "outputs": [],
      "source": [
        "def train(model, num_epochs, batch_size, model_file):\n",
        "    \"\"\"Train the model and save its best checkpoint.\n",
        "\n",
        "    Model performance across epochs is evaluated using token-level accuracy on the\n",
        "    validation set. The best checkpoint obtained during training will be stored on\n",
        "    disk and loaded back into the model at the end of training.\n",
        "    \"\"\"\n",
        "    optimizer = torch.optim.Adam(model.parameters())\n",
        "    best_accuracy = 0.0\n",
        "    for epoch in tqdm.notebook.trange(num_epochs, desc=\"training\", unit=\"epoch\"):\n",
        "        with tqdm.notebook.tqdm(\n",
        "            make_batch_iterator(training_data, batch_size, shuffle=True),\n",
        "            desc=\"epoch {}\".format(epoch + 1),\n",
        "            unit=\"batch\",\n",
        "            total=math.ceil(len(training_data) / batch_size)\n",
        "        ) as batch_iterator:\n",
        "            model.train()\n",
        "            total_loss = 0.0\n",
        "            for i, (source, target) in enumerate(batch_iterator, start=1):\n",
        "                optimizer.zero_grad()\n",
        "                loss = model.compute_loss(source, target)\n",
        "                total_loss += loss.item()\n",
        "                loss.backward()\n",
        "                optimizer.step()\n",
        "                batch_iterator.set_postfix(mean_loss=total_loss / i)\n",
        "            validation_perplexity, validation_accuracy = evaluate_next_token(\n",
        "                model, validation_data)\n",
        "            batch_iterator.set_postfix(\n",
        "                mean_loss=total_loss / i,\n",
        "                validation_perplexity=validation_perplexity,\n",
        "                validation_token_accuracy=validation_accuracy)\n",
        "            if validation_accuracy > best_accuracy:\n",
        "                print(\n",
        "                    \"Obtained a new best validation accuracy of {:.2f}, saving model \"\n",
        "                    \"checkpoint to {}...\".format(validation_accuracy, model_file))\n",
        "                torch.save(model.state_dict(), model_file)\n",
        "                best_accuracy = validation_accuracy\n",
        "    print(\"Reloading best model checkpoint from {}...\".format(model_file))\n",
        "    model.load_state_dict(torch.load(model_file))\n",
        "\n",
        "def evaluate_next_token(model, dataset, batch_size=64):\n",
        "    \"\"\"Compute token-level perplexity and accuracy metrics.\n",
        "\n",
        "    Note that the perplexity here is over subwords, not words.\n",
        "\n",
        "    This function is used for validation set evaluation at the end of each epoch\n",
        "    and should not be modified.\n",
        "    \"\"\"\n",
        "    model.eval()\n",
        "    total_cross_entropy = 0.0\n",
        "    total_predictions = 0\n",
        "    correct_predictions = 0\n",
        "    with torch.no_grad():\n",
        "        for source, target in make_batch_iterator(dataset, batch_size):\n",
        "            encoder_output, encoder_mask, encoder_hidden = model.encode(source)\n",
        "            decoder_input, decoder_target = target[:-1], target[1:]\n",
        "            logits, _, _ = model.decode(\n",
        "                decoder_input, encoder_hidden, encoder_output, encoder_mask)\n",
        "            total_cross_entropy += F.cross_entropy(\n",
        "                logits.permute(1, 2, 0), decoder_target.permute(1, 0),\n",
        "                ignore_index=pad_id, reduction=\"sum\").item()\n",
        "            total_predictions += (decoder_target != pad_id).sum().item()\n",
        "            correct_predictions += (\n",
        "                (decoder_target != pad_id) &\n",
        "                (decoder_target == logits.argmax(2))).sum().item()\n",
        "    perplexity = math.exp(total_cross_entropy / total_predictions)\n",
        "    accuracy = 100 * correct_predictions / total_predictions\n",
        "    return perplexity, accuracy"
      ]
    },
    {
      "cell_type": "markdown",
      "metadata": {
        "id": "GZYFBChe8-2F"
      },
      "source": [
        "We can now train the baseline model.\n",
        "\n",
        "Since we haven't yet defined a decoding method to output an entire string, we will measure performance for now by computing perplexity and the accuracy of predicting the next token given a gold prefix of the output. A correct implementation should get a validation token accuracy above 55%. The training code will automatically save the model with the highest validation accuracy and reload that checkpoint's parameters at the end of training."
      ]
    },
    {
      "cell_type": "code",
      "execution_count": 87,
      "metadata": {
        "execution": {
          "iopub.execute_input": "2022-02-11T17:10:55.401569Z",
          "iopub.status.busy": "2022-02-11T17:10:55.401311Z",
          "iopub.status.idle": "2022-02-11T17:17:17.185914Z",
          "shell.execute_reply": "2022-02-11T17:17:17.185002Z",
          "shell.execute_reply.started": "2022-02-11T17:10:55.40154Z"
        },
        "id": "thNLsZ04Z0A-",
        "trusted": true
      },
      "outputs": [
        {
          "data": {
            "application/vnd.jupyter.widget-view+json": {
              "model_id": "5091a67019954d2fb114cc24dfc0f0a9",
              "version_major": 2,
              "version_minor": 0
            },
            "text/plain": [
              "training:   0%|          | 0/10 [00:00<?, ?epoch/s]"
            ]
          },
          "metadata": {},
          "output_type": "display_data"
        },
        {
          "data": {
            "application/vnd.jupyter.widget-view+json": {
              "model_id": "1e8e5fbaa17d44f8a545610cf8f2973e",
              "version_major": 2,
              "version_minor": 0
            },
            "text/plain": [
              "epoch 1:   0%|          | 0/1813 [00:00<?, ?batch/s]"
            ]
          },
          "metadata": {},
          "output_type": "display_data"
        },
        {
          "name": "stdout",
          "output_type": "stream",
          "text": [
            "Obtained a new best validation accuracy of 43.74, saving model checkpoint to baseline_model.pt...\n"
          ]
        },
        {
          "data": {
            "application/vnd.jupyter.widget-view+json": {
              "model_id": "6c89d79982de44ec9f381068096693b5",
              "version_major": 2,
              "version_minor": 0
            },
            "text/plain": [
              "epoch 2:   0%|          | 0/1813 [00:00<?, ?batch/s]"
            ]
          },
          "metadata": {},
          "output_type": "display_data"
        },
        {
          "name": "stdout",
          "output_type": "stream",
          "text": [
            "Obtained a new best validation accuracy of 48.24, saving model checkpoint to baseline_model.pt...\n"
          ]
        },
        {
          "data": {
            "application/vnd.jupyter.widget-view+json": {
              "model_id": "cf6a2e16574e49da93d9d224d7e6363d",
              "version_major": 2,
              "version_minor": 0
            },
            "text/plain": [
              "epoch 3:   0%|          | 0/1813 [00:00<?, ?batch/s]"
            ]
          },
          "metadata": {},
          "output_type": "display_data"
        },
        {
          "name": "stdout",
          "output_type": "stream",
          "text": [
            "Obtained a new best validation accuracy of 50.79, saving model checkpoint to baseline_model.pt...\n"
          ]
        },
        {
          "data": {
            "application/vnd.jupyter.widget-view+json": {
              "model_id": "14af5d509d754b1bb8325ec39a2901c6",
              "version_major": 2,
              "version_minor": 0
            },
            "text/plain": [
              "epoch 4:   0%|          | 0/1813 [00:00<?, ?batch/s]"
            ]
          },
          "metadata": {},
          "output_type": "display_data"
        },
        {
          "name": "stdout",
          "output_type": "stream",
          "text": [
            "Obtained a new best validation accuracy of 52.61, saving model checkpoint to baseline_model.pt...\n"
          ]
        },
        {
          "data": {
            "application/vnd.jupyter.widget-view+json": {
              "model_id": "fa47b11219274bdf8a2cb23dec4e8656",
              "version_major": 2,
              "version_minor": 0
            },
            "text/plain": [
              "epoch 5:   0%|          | 0/1813 [00:00<?, ?batch/s]"
            ]
          },
          "metadata": {},
          "output_type": "display_data"
        },
        {
          "name": "stdout",
          "output_type": "stream",
          "text": [
            "Obtained a new best validation accuracy of 53.72, saving model checkpoint to baseline_model.pt...\n"
          ]
        },
        {
          "data": {
            "application/vnd.jupyter.widget-view+json": {
              "model_id": "94d7e0a6569c4b7abb5f6e760fa4616e",
              "version_major": 2,
              "version_minor": 0
            },
            "text/plain": [
              "epoch 6:   0%|          | 0/1813 [00:00<?, ?batch/s]"
            ]
          },
          "metadata": {},
          "output_type": "display_data"
        },
        {
          "name": "stdout",
          "output_type": "stream",
          "text": [
            "Obtained a new best validation accuracy of 54.98, saving model checkpoint to baseline_model.pt...\n"
          ]
        },
        {
          "data": {
            "application/vnd.jupyter.widget-view+json": {
              "model_id": "44fc38429f29482c96c61d8121bb1e43",
              "version_major": 2,
              "version_minor": 0
            },
            "text/plain": [
              "epoch 7:   0%|          | 0/1813 [00:00<?, ?batch/s]"
            ]
          },
          "metadata": {},
          "output_type": "display_data"
        },
        {
          "name": "stdout",
          "output_type": "stream",
          "text": [
            "Obtained a new best validation accuracy of 55.01, saving model checkpoint to baseline_model.pt...\n"
          ]
        },
        {
          "data": {
            "application/vnd.jupyter.widget-view+json": {
              "model_id": "43b936e9746e4ffbb807b7f2cf940411",
              "version_major": 2,
              "version_minor": 0
            },
            "text/plain": [
              "epoch 8:   0%|          | 0/1813 [00:00<?, ?batch/s]"
            ]
          },
          "metadata": {},
          "output_type": "display_data"
        },
        {
          "name": "stdout",
          "output_type": "stream",
          "text": [
            "Obtained a new best validation accuracy of 55.72, saving model checkpoint to baseline_model.pt...\n"
          ]
        },
        {
          "data": {
            "application/vnd.jupyter.widget-view+json": {
              "model_id": "7fc7fe5fe0884852a8b466bf14d18bb1",
              "version_major": 2,
              "version_minor": 0
            },
            "text/plain": [
              "epoch 9:   0%|          | 0/1813 [00:00<?, ?batch/s]"
            ]
          },
          "metadata": {},
          "output_type": "display_data"
        },
        {
          "name": "stdout",
          "output_type": "stream",
          "text": [
            "Obtained a new best validation accuracy of 56.29, saving model checkpoint to baseline_model.pt...\n"
          ]
        },
        {
          "data": {
            "application/vnd.jupyter.widget-view+json": {
              "model_id": "218a2cf3659946d9ac5196f7f6ed3360",
              "version_major": 2,
              "version_minor": 0
            },
            "text/plain": [
              "epoch 10:   0%|          | 0/1813 [00:00<?, ?batch/s]"
            ]
          },
          "metadata": {},
          "output_type": "display_data"
        },
        {
          "name": "stdout",
          "output_type": "stream",
          "text": [
            "Obtained a new best validation accuracy of 56.43, saving model checkpoint to baseline_model.pt...\n",
            "Reloading best model checkpoint from baseline_model.pt...\n"
          ]
        }
      ],
      "source": [
        "# You are welcome to adjust these parameters based on your model implementation.\n",
        "num_epochs = 10\n",
        "batch_size = 16\n",
        "\n",
        "baseline_model = Seq2seqBaseline(len(vocab), 256, num_layers=2).to(device)\n",
        "train(baseline_model, num_epochs, batch_size, \"./saves/baseline_model.pt\")"
      ]
    },
    {
      "cell_type": "markdown",
      "metadata": {
        "id": "wzRIg471LlFW"
      },
      "source": [
        "**Download your baseline model here.** Once you have a model you are happy with, you are encouraged to download it or save it to your Google Drive in case your session disconnects. The best baseline model has been saved to `baseline_model.pt` in the local filesystem. You will need a trained model while implementing inference below and to generate your final predictions. To download session files from Kaggle, please click the data tab on the right side of the screen and expand the `/kaggle/working` folder. You can do a similar process in Google drive."
      ]
    },
    {
      "attachments": {},
      "cell_type": "markdown",
      "metadata": {},
      "source": [
        "## Greedy Search"
      ]
    },
    {
      "attachments": {},
      "cell_type": "markdown",
      "metadata": {
        "id": "QO5Saz-KQ9Cg"
      },
      "source": [
        "For evaluation, we also need to be able to generate entire strings from the model. We'll first define a greedy inference procedure here.\n",
        "\n",
        "A correct implementation of greedy decoding should get above 20 BLEU on the validation set."
      ]
    },
    {
      "cell_type": "code",
      "execution_count": 15,
      "metadata": {
        "execution": {
          "iopub.execute_input": "2022-02-11T17:17:34.542652Z",
          "iopub.status.busy": "2022-02-11T17:17:34.542399Z",
          "iopub.status.idle": "2022-02-11T17:17:35.386175Z",
          "shell.execute_reply": "2022-02-11T17:17:35.38466Z",
          "shell.execute_reply.started": "2022-02-11T17:17:34.542624Z"
        },
        "id": "dXG0VTLvRvzp",
        "trusted": true
      },
      "outputs": [],
      "source": [
        "def predict_greedy(model, sentences, max_length=100):\n",
        "    \"\"\"Make predictions for the given inputs using greedy inference.\n",
        "\n",
        "    Args:\n",
        "        model: A sequence-to-sequence model.\n",
        "        sentences: A list of input sentences, represented as strings.\n",
        "        max_length: The maximum length at which to truncate outputs in order to\n",
        "            avoid non-terminating inference.\n",
        "\n",
        "    Returns:\n",
        "        A list of predicted translations, represented as strings.\n",
        "    \"\"\"\n",
        "\n",
        "    # Requirement: your implementation must be batched. This means that you should\n",
        "    # make only one call to model.encode() at the start of the function, and make\n",
        "    # only one call to model.decode() per inference step.\n",
        "\n",
        "    # Implementation tip: once an EOS token has been generated, force the output\n",
        "    # for that example to be padding tokens in all subsequent time steps by\n",
        "    # adding a large positive number like 1e9 to the appropriate logits.\n",
        "\n",
        "    # BEGIN SOLUTION\n",
        "\n",
        "    encoder_input = make_batch(sentences)\n",
        "    encoder_output, encoder_mask, hidden = model.encode(encoder_input)\n",
        "\n",
        "    decoder_input = torch.full((1,len(sentences)), bos_id, dtype=torch.long, device=device)\n",
        "    decoder_mask = torch.zeros((1,len(sentences)), dtype=torch.long, device=device)\n",
        "\n",
        "    output = decoder_input\n",
        "    for i in range(max_length):\n",
        "        logits, hidden, _ = model.decode(\n",
        "            decoder_input, hidden, encoder_output, encoder_mask\n",
        "        )\n",
        "\n",
        "        decoder_input = decoder_mask * pad_id + (1 - decoder_mask) * torch.argmax(logits, dim=-1)\n",
        "        decoder_mask = ((decoder_input == eos_id) | (decoder_input == pad_id)).to(torch.long)\n",
        "\n",
        "        if torch.sum(decoder_mask) == decoder_mask.nelement():\n",
        "            break\n",
        "\n",
        "        output = torch.cat([output, decoder_input], dim=0)\n",
        "\n",
        "    output = output.cpu().numpy().T\n",
        "    return [vocab.DecodeIds(s.tolist()) for s in output]\n",
        "\n",
        "    # END SOLUTION"
      ]
    },
    {
      "attachments": {},
      "cell_type": "markdown",
      "metadata": {},
      "source": [
        "## Beam Search"
      ]
    },
    {
      "attachments": {},
      "cell_type": "markdown",
      "metadata": {},
      "source": [
        "Now it's time to implement beam search.\n",
        "\n",
        "Similar to greedy search, beam search generates one token at a time. However, rather than keeping only the single best hypothesis, we instead keep the top $k$ candidates at each time step. This is accomplished by computing the set of next-token extensions for each item on the beam and finding the top $k$ across all candidates according to total log-probability.\n",
        "\n",
        "Candidates that are finished should stay on the beam through the end of inference. The search process concludes once all $k$ items on the beam are complete.\n",
        "\n",
        "With beam search, you should get an improvement of at least 0.5 BLEU over greedy search, and should reach above 21 BLEU without attention and above 37 BLEU with attention.\n",
        "\n",
        "**Tips:**\n",
        "\n",
        "1) A good general strategy when doing complex code like this is to carefully annotate each line with a comment saying what each dimension represents. \n",
        "\n",
        "2) You should only need one call to topk per step. You do not need to have a topk just over vocabulary first, you can directly go from vocab_size*beam_size to beam_size items.\n",
        "\n",
        "3) Be sure you are correctly keeping track of which beam item a candidate is selected from and updating the beam states, such as LSTM hidden state, accordingly. A single state from the previous time step may need to be used for multiple new beam items or not at all. This includes all state associated with a beam, including all past tokens output by the beam and any extra tensors such as ones remembering when a beam is finished.\n",
        "\n",
        "4) Pay attention to how you interleave things when using a single dimension to represent multiple things.  It will make a difference when you start reshaping to separate them out.  It may be easier to start with everything separate, then temporarily combine as needed.\n",
        "\n",
        "5) For efficiency, we suggest that you implement all beam manipulations using batched PyTorch computations rather than Python for-loops.\n",
        "\n",
        "6) Once an EOS token has been generated, force the output for that candidate to be padding tokens in all subsequent time steps by adding a large positive number like 1e9 to the appropriate logits. This will ensure that the candidate stays on the beam, as its probability will be very close to 1 and its score will effectively remain the same as when it was first completed.  All other (invalid) token continuations will have extremely low log probability and will not make it onto the beam.\n",
        "\n",
        "7) While you are encouraged to keep your tensor dimensions constant for simplicity (aside from the sequence length), some special care will need to be taken on the first iteration to ensure that your beam doesn't fill up with k identical copies of the same candidate.\n"
      ]
    },
    {
      "cell_type": "code",
      "execution_count": 16,
      "metadata": {},
      "outputs": [],
      "source": [
        "def ravel_index(indices):\n",
        "    offset = torch.arange(indices.shape[0], device=device) * indices.shape[1]\n",
        "    return torch.flatten(indices + offset.unsqueeze(-1))\n",
        "\n",
        "def unravel_index(indices, ncols):\n",
        "    # similar to numpy.unravel_index\n",
        "    # the inverse operation is similar to numpy.ravel_multi_index\n",
        "    # the inverse operation is not ravel_index\n",
        "\n",
        "    rows = indices // ncols\n",
        "    cols = indices % ncols\n",
        "    return rows, cols"
      ]
    },
    {
      "cell_type": "code",
      "execution_count": 74,
      "metadata": {},
      "outputs": [],
      "source": [
        "def predict_beam(model, sentences, k=5, max_length=100):\n",
        "    \"\"\"Make predictions for the given inputs using beam search.\n",
        "\n",
        "    Args:\n",
        "        model: A sequence-to-sequence model.\n",
        "        sentences: A list of input sentences, represented as strings.\n",
        "        k: The size of the beam.\n",
        "        max_length: The maximum length at which to truncate outputs in order to\n",
        "            avoid non-terminating inference.\n",
        "\n",
        "    Returns:\n",
        "        A list of beam predictions. Each element in the list should be a list of k\n",
        "        strings corresponding to the top k predictions for the corresponding input,\n",
        "        sorted in descending order by score.\n",
        "    \"\"\"\n",
        "\n",
        "    # Requirement: your implementation must be batched. This means that you should\n",
        "    # make only one call to model.encode() at the start of the function, and make\n",
        "    # only one call to model.decode() per inference step.\n",
        "\n",
        "    # Does top-k return relative ordering, if not how to return at end of method? \n",
        "    # EOS candidate getting knocked. \n",
        "\n",
        "    # BEGIN SOLUTION\n",
        "\n",
        "    encoder_input = make_batch(sentences)\n",
        "    encoder_output, encoder_mask, (h_n, c_n) = model.encode(encoder_input)\n",
        "\n",
        "    decoder_input = torch.full((1,len(sentences)), bos_id, dtype=torch.long, device=device)\n",
        "    decoder_mask = torch.zeros((1,len(sentences)), dtype=torch.long, device=device)\n",
        "\n",
        "    logits, (h_n, c_n), _ = model.decode(\n",
        "        decoder_input, (h_n, c_n), encoder_output, encoder_mask\n",
        "    )\n",
        "\n",
        "    log_prob = F.log_softmax(logits.squeeze(0), dim=-1)\n",
        "    log_prob, indices = torch.topk(log_prob, k, dim=1)\n",
        "\n",
        "    decoder_input = indices.view(1,-1)\n",
        "    decoder_mask = ((decoder_input == eos_id) | (decoder_input == pad_id)).to(torch.long)\n",
        "\n",
        "    encoder_output = torch.repeat_interleave(encoder_output, k, dim=1)\n",
        "    encoder_mask = torch.repeat_interleave(encoder_mask, k, dim=1)\n",
        "    h_n = torch.repeat_interleave(h_n, k, dim=1)\n",
        "    c_n = torch.repeat_interleave(c_n, k, dim=1)\n",
        "\n",
        "    output = decoder_input\n",
        "    for _ in range(1,max_length):\n",
        "        logits, (h_n, c_n), _ = model.decode(\n",
        "            decoder_input, (h_n, c_n), encoder_output, encoder_mask\n",
        "        )\n",
        "\n",
        "        log_prob = log_prob.unsqueeze(-1) + F.log_softmax(\n",
        "            logits.view(-1, k, logits.shape[-1]), dim=-1)\n",
        "        log_prob, indices = torch.topk(log_prob.view(log_prob.shape[0], -1), k, dim=1)\n",
        "\n",
        "        prefix_indices, word_indices = unravel_index(indices, len(vocab))\n",
        "        prefix_indices = ravel_index(prefix_indices)\n",
        "\n",
        "        decoder_input = decoder_mask * pad_id + (1 - decoder_mask) * word_indices.view(-1)\n",
        "        decoder_mask = ((decoder_input == eos_id) | (decoder_input == pad_id)).to(torch.long)\n",
        "\n",
        "        if torch.sum(decoder_mask) == decoder_mask.nelement():\n",
        "            break\n",
        "\n",
        "        h_n = h_n[:, prefix_indices, :]\n",
        "        c_n = c_n[:, prefix_indices, :]\n",
        "\n",
        "        output = torch.cat([output[:, prefix_indices], decoder_input], dim=0)\n",
        "\n",
        "    output = output.cpu().numpy().T.reshape(-1,k,output.shape[0])\n",
        "    return [[vocab.DecodeIds(s.tolist()) for s in l] for l in output]\n",
        "\n",
        "    # END SOLUTION"
      ]
    },
    {
      "attachments": {},
      "cell_type": "markdown",
      "metadata": {},
      "source": [
        "## Evaluation"
      ]
    },
    {
      "cell_type": "code",
      "execution_count": 18,
      "metadata": {},
      "outputs": [],
      "source": [
        "def evaluate(model, dataset, batch_size=64, method=\"greedy\"):\n",
        "    assert method in {\"greedy\", \"beam\"}\n",
        "    source_sentences = [example.src for example in dataset]\n",
        "    target_sentences = [example.trg for example in dataset]\n",
        "    model.eval()\n",
        "    predictions = []\n",
        "    with torch.no_grad():\n",
        "        for start_index in range(0, len(source_sentences), batch_size):\n",
        "            if method == \"greedy\":\n",
        "                prediction_batch = predict_greedy(\n",
        "                    model, source_sentences[start_index:start_index + batch_size])\n",
        "            else:\n",
        "                prediction_batch = predict_beam(\n",
        "                    model, source_sentences[start_index:start_index + batch_size])\n",
        "                prediction_batch = [candidates[0] for candidates in prediction_batch]\n",
        "            predictions.extend(prediction_batch)\n",
        "    return sacrebleu.corpus_bleu(predictions, [target_sentences]).score"
      ]
    },
    {
      "cell_type": "code",
      "execution_count": 19,
      "metadata": {
        "execution": {
          "iopub.execute_input": "2022-02-11T17:00:48.734667Z",
          "iopub.status.busy": "2022-02-11T17:00:48.734123Z",
          "iopub.status.idle": "2022-02-11T17:00:48.798028Z",
          "shell.execute_reply": "2022-02-11T17:00:48.796906Z",
          "shell.execute_reply.started": "2022-02-11T17:00:48.734625Z"
        },
        "id": "BoevlyGGF8Bs",
        "trusted": true
      },
      "outputs": [],
      "source": [
        "def show_predictions(model, num_examples=4, include_beam=False):\n",
        "    for example in validation_data[:num_examples]:\n",
        "        print(\"Input:\")\n",
        "        print(\" \", example.src)\n",
        "        print(\"Target:\")\n",
        "        print(\" \", example.trg)\n",
        "        print(\"Greedy prediction:\")\n",
        "        print(\" \", predict_greedy(model, [example.src])[0])\n",
        "        if include_beam:\n",
        "            print(\"Beam predictions:\")\n",
        "            for candidate in predict_beam(model, [example.src])[0]:\n",
        "                print(\" \", candidate)\n",
        "        print()"
      ]
    },
    {
      "cell_type": "code",
      "execution_count": 88,
      "metadata": {},
      "outputs": [
        {
          "name": "stdout",
          "output_type": "stream",
          "text": [
            "Baseline model validation BLEU using greedy search: 21.127528068662354\n",
            "\n",
            "Baseline model sample predictions:\n",
            "\n",
            "Input:\n",
            "  Eine Gruppe von Männern lädt Baumwolle auf einen Lastwagen\n",
            "Target:\n",
            "  A group of men are loading cotton onto a truck\n",
            "Greedy prediction:\n",
            "  A group of men are putting on a wooden structure.\n",
            "\n",
            "Input:\n",
            "  Ein Mann schläft in einem grünen Raum auf einem Sofa.\n",
            "Target:\n",
            "  A man sleeping in a green room on a couch.\n",
            "Greedy prediction:\n",
            "  A man sleeping in a chair on a green chair.\n",
            "\n",
            "Input:\n",
            "  Ein Junge mit Kopfhörern sitzt auf den Schultern einer Frau.\n",
            "Target:\n",
            "  A boy wearing headphones sits on a woman's shoulders.\n",
            "Greedy prediction:\n",
            "  A boy with a boy sits on a couch with his head.\n",
            "\n",
            "Input:\n",
            "  Zwei Männer bauen eine blaue Eisfischerhütte auf einem zugefrorenen See auf\n",
            "Target:\n",
            "  Two men setting up a blue ice fishing hut on an iced over lake\n",
            "Greedy prediction:\n",
            "  Two men are driving a blue tent on a cloudy day.\n",
            "\n"
          ]
        }
      ],
      "source": [
        "print(\"Baseline model validation BLEU using greedy search:\",\n",
        "      evaluate(baseline_model, validation_data))\n",
        "print()\n",
        "print(\"Baseline model sample predictions:\")\n",
        "print()\n",
        "show_predictions(baseline_model)"
      ]
    },
    {
      "cell_type": "code",
      "execution_count": 89,
      "metadata": {},
      "outputs": [
        {
          "name": "stdout",
          "output_type": "stream",
          "text": [
            "Baseline model validation BLEU using beam search: 22.919444821369357\n",
            "\n",
            "Baseline model sample predictions:\n",
            "\n",
            "Input:\n",
            "  Eine Gruppe von Männern lädt Baumwolle auf einen Lastwagen\n",
            "Target:\n",
            "  A group of men are loading cotton onto a truck\n",
            "Greedy prediction:\n",
            "  A group of men are putting on a wooden structure.\n",
            "Beam predictions:\n",
            "  A group of men are picking up trash on a lake.\n",
            "  A group of men are putting on a wooden structure.\n",
            "  A group of men are picking up trash on a tree.\n",
            "  A group of men are picking up trash on a wooden structure.\n",
            "  A group of men are picking up trash on a tree stump.\n",
            "\n",
            "Input:\n",
            "  Ein Mann schläft in einem grünen Raum auf einem Sofa.\n",
            "Target:\n",
            "  A man sleeping in a green room on a couch.\n",
            "Greedy prediction:\n",
            "  A man sleeping in a chair on a green chair.\n",
            "Beam predictions:\n",
            "  A man sleeping in a chair on a green chair.\n",
            "  A man sleeps in a chair on a green chair.\n",
            "  A man is sleeping in a chair on a green chair.\n",
            "  A man sleeping in a red chair on a couch.\n",
            "  A man sleeping in a red chair on a green chair.\n",
            "\n",
            "Input:\n",
            "  Ein Junge mit Kopfhörern sitzt auf den Schultern einer Frau.\n",
            "Target:\n",
            "  A boy wearing headphones sits on a woman's shoulders.\n",
            "Greedy prediction:\n",
            "  A boy with a boy sits on a couch with his head.\n",
            "Beam predictions:\n",
            "  A boy is sitting on a couch with a little boy on it.\n",
            "  A boy is sitting on a couch with a little boy looking on.\n",
            "  A boy is sitting on a couch with a little boy in his hands.\n",
            "  A boy is sitting on a couch with a little boy in the back.\n",
            "  A boy is sitting on a couch with a little boy looking at him.\n",
            "\n",
            "Input:\n",
            "  Zwei Männer bauen eine blaue Eisfischerhütte auf einem zugefrorenen See auf\n",
            "Target:\n",
            "  Two men setting up a blue ice fishing hut on an iced over lake\n",
            "Greedy prediction:\n",
            "  Two men are driving a blue tent on a cloudy day.\n",
            "Beam predictions:\n",
            "  Two men are driving a blue tent on a cloudy day.\n",
            "  Two men are putting a blue sack on a cloudy day.\n",
            "  Two men are putting a blue sack on a sunny day.\n",
            "  Two men are putting a blue sack on a cloudy day in the sun.\n",
            "  Two men are putting a blue sack on a cloudy day in the morning.\n",
            "\n"
          ]
        }
      ],
      "source": [
        "print(\"Baseline model validation BLEU using beam search:\",\n",
        "      evaluate(baseline_model, validation_data, method=\"beam\"))\n",
        "print()\n",
        "print(\"Baseline model sample predictions:\")\n",
        "print()\n",
        "show_predictions(baseline_model, include_beam=True)"
      ]
    },
    {
      "cell_type": "markdown",
      "metadata": {
        "id": "vb7NfD4BD7I_"
      },
      "source": [
        "## Sequence-to-sequence model with attention"
      ]
    },
    {
      "cell_type": "markdown",
      "metadata": {
        "id": "9SNJwlAO9N0k"
      },
      "source": [
        "Next, we extend the baseline model to include an attention mechanism in the decoder. This circumvents the need to store all information about the source sentence in a fixed-size representation, and should substantially improve performance and convergence time.\n",
        "\n",
        "Your implementation should use bilinear attention, where the attention distribution over the encoder outputs $e_1, \\dots, e_n$ given a decoder LSTM output $d$ is obtained via a softmax of the dot products after a suitable projection to get them to the same size: $w_i \\propto \\exp ( d^\\top W e_i )$. The unnormalized attention logits for encoder outputs corresponding to padding tokens should be offset with a large negative value to ensure that the corresponding attention weights are $0$.\n",
        "\n",
        "After computing the attention distribution, take a weighted sum of the projected encoder outputs to obtain the attention context $c = \\sum_i w_i We_i$, and add this to the decoder output $d$ to obtain the final representation to be passed to the vocabulary projection layer."
      ]
    },
    {
      "cell_type": "code",
      "execution_count": 112,
      "metadata": {
        "execution": {
          "iopub.execute_input": "2022-02-11T17:00:53.912668Z",
          "iopub.status.busy": "2022-02-11T17:00:53.912398Z",
          "iopub.status.idle": "2022-02-11T17:00:53.922526Z",
          "shell.execute_reply": "2022-02-11T17:00:53.921731Z",
          "shell.execute_reply.started": "2022-02-11T17:00:53.912632Z"
        },
        "id": "0uI8j0Sa-gNa",
        "trusted": true
      },
      "outputs": [],
      "source": [
        "class Seq2seqAttention(Seq2seqBaseline):\n",
        "    def __init__(self, input_size, hidden_size, num_layers, dropout=0.5, bidirectional=True):\n",
        "        super().__init__(input_size, hidden_size, num_layers, dropout, bidirectional)\n",
        "\n",
        "        # Initialize any additional parameters needed for this model that are not\n",
        "        # already included in the baseline model.\n",
        "        \n",
        "        # BEGIN SOLUTION\n",
        "\n",
        "        self.attention = nn.MultiheadAttention(hidden_size, 1,\n",
        "            kdim=(1+bidirectional)*hidden_size,\n",
        "            vdim=(1+bidirectional)*hidden_size)\n",
        "\n",
        "        # END SOLUTION\n",
        "\n",
        "    def decode(self, decoder_input, initial_hidden, encoder_output, encoder_mask):\n",
        "        \"\"\"Run the decoder LSTM starting from an initial hidden state.\n",
        "\n",
        "        The third and fourth arguments are not used in the baseline model, but are\n",
        "        included for compatibility with the attention model in the next section.\n",
        "\n",
        "        Args:\n",
        "            decoder_input: An integer tensor with shape (max_decoder_sequence_length,\n",
        "                batch_size) containing the subword indices for the decoder input. During\n",
        "                evaluation, where decoding proceeds one step at a time, the initial\n",
        "                dimension should be 1.\n",
        "            initial_hidden: A pair of tensors (h_0, c_0) representing the initial\n",
        "                state of the decoder, each with shape (num_layers, batch_size,\n",
        "                hidden_size).\n",
        "            encoder_output: The output of the encoder with shape\n",
        "                (max_source_sequence_length, batch_size, 2 * hidden_size).\n",
        "            encoder_mask: The output mask from the encoder with shape\n",
        "                (max_source_sequence_length, batch_size). Encoder outputs at positions\n",
        "                with a True value correspond to padding tokens and should be ignored.\n",
        "\n",
        "        Returns:\n",
        "            A tuple with three elements:\n",
        "                logits: A tensor with shape (max_decoder_sequence_length, batch_size,\n",
        "                    vocab_size) containing unnormalized scores for the next-word\n",
        "                    predictions at each position.\n",
        "                decoder_hidden: A pair of tensors (h_n, c_n) with the same shape as\n",
        "                    initial_hidden representing the updated decoder state after processing\n",
        "                    the decoder input.\n",
        "                attention_weights: A tensor with shape (max_decoder_sequence_length,\n",
        "                    batch_size, max_source_sequence_length) representing the normalized\n",
        "                    attention weights. This should sum to 1 along the last dimension.\n",
        "        \"\"\"\n",
        "\n",
        "        # Implementation tip: use a large negative number like -1e9 instead of\n",
        "        # float(\"-inf\") when masking logits to avoid numerical issues.\n",
        "\n",
        "        # Implementation tip: the function torch.einsum may be useful here.\n",
        "        # See https://rockt.github.io/2018/04/30/einsum for a tutorial.\n",
        "\n",
        "        # BEGIN SOLUTION\n",
        "\n",
        "        embeddings = self.embedding(decoder_input)\n",
        "        decoder_output, hidden = self.decoder(embeddings, initial_hidden)\n",
        "\n",
        "        attention_output, attention_weights = self.attention(\n",
        "            decoder_output, encoder_output, encoder_output,\n",
        "            key_padding_mask=encoder_mask.T)\n",
        "\n",
        "        logits = self.final_layer(decoder_output + attention_output)\n",
        "        return logits, hidden, attention_weights.permute(1,0,2)\n",
        "\n",
        "        # END SOLUTION"
      ]
    },
    {
      "cell_type": "markdown",
      "metadata": {
        "id": "wgHYmMDR9lAd"
      },
      "source": [
        "As before, we can train an attention model using the provided training code.\n",
        "\n",
        "A correct implementation should get a validation token accuracy above 64 and a validation BLEU above 36 with greedy search."
      ]
    },
    {
      "cell_type": "code",
      "execution_count": 84,
      "metadata": {
        "execution": {
          "iopub.execute_input": "2022-02-11T17:03:49.338267Z",
          "iopub.status.busy": "2022-02-11T17:03:49.337985Z",
          "iopub.status.idle": "2022-02-11T17:10:44.602136Z",
          "shell.execute_reply": "2022-02-11T17:10:44.601381Z",
          "shell.execute_reply.started": "2022-02-11T17:03:49.338236Z"
        },
        "id": "0YvMnDHxJOZv",
        "trusted": true
      },
      "outputs": [
        {
          "data": {
            "application/vnd.jupyter.widget-view+json": {
              "model_id": "de18c459da7b48cd9fe897428f5a2f36",
              "version_major": 2,
              "version_minor": 0
            },
            "text/plain": [
              "training:   0%|          | 0/10 [00:00<?, ?epoch/s]"
            ]
          },
          "metadata": {},
          "output_type": "display_data"
        },
        {
          "data": {
            "application/vnd.jupyter.widget-view+json": {
              "model_id": "0c01a433fbd54390a115041e77fad75e",
              "version_major": 2,
              "version_minor": 0
            },
            "text/plain": [
              "epoch 1:   0%|          | 0/1813 [00:00<?, ?batch/s]"
            ]
          },
          "metadata": {},
          "output_type": "display_data"
        },
        {
          "name": "stdout",
          "output_type": "stream",
          "text": [
            "Obtained a new best validation accuracy of 58.07, saving model checkpoint to attention_model.pt...\n"
          ]
        },
        {
          "data": {
            "application/vnd.jupyter.widget-view+json": {
              "model_id": "eb59f82408fe4f7eb0777824aab55967",
              "version_major": 2,
              "version_minor": 0
            },
            "text/plain": [
              "epoch 2:   0%|          | 0/1813 [00:00<?, ?batch/s]"
            ]
          },
          "metadata": {},
          "output_type": "display_data"
        },
        {
          "name": "stdout",
          "output_type": "stream",
          "text": [
            "Obtained a new best validation accuracy of 62.58, saving model checkpoint to attention_model.pt...\n"
          ]
        },
        {
          "data": {
            "application/vnd.jupyter.widget-view+json": {
              "model_id": "1921092a97ad439bb416dda1e0920afa",
              "version_major": 2,
              "version_minor": 0
            },
            "text/plain": [
              "epoch 3:   0%|          | 0/1813 [00:00<?, ?batch/s]"
            ]
          },
          "metadata": {},
          "output_type": "display_data"
        },
        {
          "name": "stdout",
          "output_type": "stream",
          "text": [
            "Obtained a new best validation accuracy of 64.57, saving model checkpoint to attention_model.pt...\n"
          ]
        },
        {
          "data": {
            "application/vnd.jupyter.widget-view+json": {
              "model_id": "37fd2b099e4d4c33b9f893b4da303f85",
              "version_major": 2,
              "version_minor": 0
            },
            "text/plain": [
              "epoch 4:   0%|          | 0/1813 [00:00<?, ?batch/s]"
            ]
          },
          "metadata": {},
          "output_type": "display_data"
        },
        {
          "name": "stdout",
          "output_type": "stream",
          "text": [
            "Obtained a new best validation accuracy of 65.52, saving model checkpoint to attention_model.pt...\n"
          ]
        },
        {
          "data": {
            "application/vnd.jupyter.widget-view+json": {
              "model_id": "532ad8c3d7e04d2fad7b486659d89a1c",
              "version_major": 2,
              "version_minor": 0
            },
            "text/plain": [
              "epoch 5:   0%|          | 0/1813 [00:00<?, ?batch/s]"
            ]
          },
          "metadata": {},
          "output_type": "display_data"
        },
        {
          "name": "stdout",
          "output_type": "stream",
          "text": [
            "Obtained a new best validation accuracy of 66.58, saving model checkpoint to attention_model.pt...\n"
          ]
        },
        {
          "data": {
            "application/vnd.jupyter.widget-view+json": {
              "model_id": "4937bf7451fb430da71bfceb688f4890",
              "version_major": 2,
              "version_minor": 0
            },
            "text/plain": [
              "epoch 6:   0%|          | 0/1813 [00:00<?, ?batch/s]"
            ]
          },
          "metadata": {},
          "output_type": "display_data"
        },
        {
          "name": "stdout",
          "output_type": "stream",
          "text": [
            "Obtained a new best validation accuracy of 66.71, saving model checkpoint to attention_model.pt...\n"
          ]
        },
        {
          "data": {
            "application/vnd.jupyter.widget-view+json": {
              "model_id": "64fb5d24a22a47aabc53eb01ea6459f6",
              "version_major": 2,
              "version_minor": 0
            },
            "text/plain": [
              "epoch 7:   0%|          | 0/1813 [00:00<?, ?batch/s]"
            ]
          },
          "metadata": {},
          "output_type": "display_data"
        },
        {
          "name": "stdout",
          "output_type": "stream",
          "text": [
            "Obtained a new best validation accuracy of 67.42, saving model checkpoint to attention_model.pt...\n"
          ]
        },
        {
          "data": {
            "application/vnd.jupyter.widget-view+json": {
              "model_id": "9fada9a4331744adaf9e0784cadf4bf3",
              "version_major": 2,
              "version_minor": 0
            },
            "text/plain": [
              "epoch 8:   0%|          | 0/1813 [00:00<?, ?batch/s]"
            ]
          },
          "metadata": {},
          "output_type": "display_data"
        },
        {
          "data": {
            "application/vnd.jupyter.widget-view+json": {
              "model_id": "21b24aa10d87443b8d6eaa7acd5f1cd4",
              "version_major": 2,
              "version_minor": 0
            },
            "text/plain": [
              "epoch 9:   0%|          | 0/1813 [00:00<?, ?batch/s]"
            ]
          },
          "metadata": {},
          "output_type": "display_data"
        },
        {
          "name": "stdout",
          "output_type": "stream",
          "text": [
            "Obtained a new best validation accuracy of 67.53, saving model checkpoint to attention_model.pt...\n"
          ]
        },
        {
          "data": {
            "application/vnd.jupyter.widget-view+json": {
              "model_id": "2ae6a9a5d0f742ed93809d4909584596",
              "version_major": 2,
              "version_minor": 0
            },
            "text/plain": [
              "epoch 10:   0%|          | 0/1813 [00:00<?, ?batch/s]"
            ]
          },
          "metadata": {},
          "output_type": "display_data"
        },
        {
          "name": "stdout",
          "output_type": "stream",
          "text": [
            "Reloading best model checkpoint from attention_model.pt...\n",
            "Attention model validation BLEU using greedy search: 37.59636345858624\n"
          ]
        }
      ],
      "source": [
        "# You are welcome to adjust these parameters based on your model implementation.\n",
        "num_epochs = 10\n",
        "batch_size = 16\n",
        "\n",
        "attention_model = Seq2seqAttention(len(vocab), 256, num_layers=2).to(device)\n",
        "train(attention_model, num_epochs, batch_size, \"./saves/attention_model.pt\")\n",
        "print(\"Attention model validation BLEU using greedy search:\",\n",
        "      evaluate(attention_model, validation_data))"
      ]
    },
    {
      "cell_type": "markdown",
      "metadata": {
        "id": "Ey4qZ_U4bcFF"
      },
      "source": [
        "**Download your attention model here.** Once you have a model you are happy with, you are encouraged to download it or save it to your Google Drive in case your session disconnects. The best attention model has been saved to `attention_model.pt` in the local filesystem. You will need a trained model while implementing beam search below and to generate your final predictions."
      ]
    },
    {
      "cell_type": "code",
      "execution_count": 85,
      "metadata": {
        "id": "U2dWb-JrA2bR"
      },
      "outputs": [
        {
          "name": "stdout",
          "output_type": "stream",
          "text": [
            "Attention model validation BLEU using greedy search: 37.59636345858624\n",
            "\n",
            "Attention model sample predictions:\n",
            "\n",
            "Input:\n",
            "  Eine Gruppe von Männern lädt Baumwolle auf einen Lastwagen\n",
            "Target:\n",
            "  A group of men are loading cotton onto a truck\n",
            "Greedy prediction:\n",
            "  A group of men loading damaged onto a truck\n",
            "\n",
            "Input:\n",
            "  Ein Mann schläft in einem grünen Raum auf einem Sofa.\n",
            "Target:\n",
            "  A man sleeping in a green room on a couch.\n",
            "Greedy prediction:\n",
            "  A man sleeping on a sofa in a green room.\n",
            "\n",
            "Input:\n",
            "  Ein Junge mit Kopfhörern sitzt auf den Schultern einer Frau.\n",
            "Target:\n",
            "  A boy wearing headphones sits on a woman's shoulders.\n",
            "Greedy prediction:\n",
            "  A boy with headphones sits on a woman's shoulders.\n",
            "\n",
            "Input:\n",
            "  Zwei Männer bauen eine blaue Eisfischerhütte auf einem zugefrorenen See auf\n",
            "Target:\n",
            "  Two men setting up a blue ice fishing hut on an iced over lake\n",
            "Greedy prediction:\n",
            "  Two men are constructing a blue hard shape on a ride.\n",
            "\n"
          ]
        }
      ],
      "source": [
        "print(\"Attention model validation BLEU using greedy search:\",\n",
        "      evaluate(attention_model, validation_data))\n",
        "print()\n",
        "print(\"Attention model sample predictions:\")\n",
        "print()\n",
        "show_predictions(attention_model)"
      ]
    },
    {
      "cell_type": "code",
      "execution_count": 86,
      "metadata": {
        "execution": {
          "iopub.execute_input": "2022-02-11T17:18:29.923475Z",
          "iopub.status.busy": "2022-02-11T17:18:29.923015Z",
          "iopub.status.idle": "2022-02-11T17:18:34.722149Z",
          "shell.execute_reply": "2022-02-11T17:18:34.721488Z",
          "shell.execute_reply.started": "2022-02-11T17:18:29.923439Z"
        },
        "id": "XI76LuciROgh",
        "trusted": true
      },
      "outputs": [
        {
          "name": "stdout",
          "output_type": "stream",
          "text": [
            "Attention model validation BLEU using beam search: 38.10422808358772\n",
            "\n",
            "Attention model sample predictions:\n",
            "\n",
            "Input:\n",
            "  Eine Gruppe von Männern lädt Baumwolle auf einen Lastwagen\n",
            "Target:\n",
            "  A group of men are loading cotton onto a truck\n",
            "Greedy prediction:\n",
            "  A group of men loading damaged onto a truck\n",
            "Beam predictions:\n",
            "  A group of men loading foliage on a truck\n",
            "  A group of men are loading foliage onto a truck\n",
            "  A group of men loading foliage onto a truck\n",
            "  A group of men loaded on a truck\n",
            "  A group of men are loading foliage on a truck\n",
            "\n",
            "Input:\n",
            "  Ein Mann schläft in einem grünen Raum auf einem Sofa.\n",
            "Target:\n",
            "  A man sleeping in a green room on a couch.\n",
            "Greedy prediction:\n",
            "  A man sleeping on a sofa in a green room.\n",
            "Beam predictions:\n",
            "  A man is sleeping on a sofa in a green room.\n",
            "  A man sleeping on a sofa in a green room.\n",
            "  A man sleeps on a sofa in a green room.\n",
            "  A man sleeping on the sofa in a green room.\n",
            "  A man is sleeping on the sofa in a green room.\n",
            "\n",
            "Input:\n",
            "  Ein Junge mit Kopfhörern sitzt auf den Schultern einer Frau.\n",
            "Target:\n",
            "  A boy wearing headphones sits on a woman's shoulders.\n",
            "Greedy prediction:\n",
            "  A boy with headphones sits on a woman's shoulders.\n",
            "Beam predictions:\n",
            "  A boy wearing headphones sits on a woman's shoulders.\n",
            "  A boy wearing headphones sits on the shoulders of a woman.\n",
            "  A boy with headphones sits on a woman's shoulders.\n",
            "  A young boy wearing headphones sits on the shoulders of a woman.\n",
            "  A boy with headphones sits on the shoulders of a woman.\n",
            "\n",
            "Input:\n",
            "  Zwei Männer bauen eine blaue Eisfischerhütte auf einem zugefrorenen See auf\n",
            "Target:\n",
            "  Two men setting up a blue ice fishing hut on an iced over lake\n",
            "Greedy prediction:\n",
            "  Two men are constructing a blue hard shape on a ride.\n",
            "Beam predictions:\n",
            "  Two men are constructing a blue hard cone on a surfboard.\n",
            "  Two men are constructing a blue hard cone on a dirt lake.\n",
            "  Two men are constructing a blue hard cone on a dirt lake\n",
            "  Two men are constructing a blue hard cone on a farm field.\n",
            "  Two men are constructing a blue hard cream cones on a surfboard.\n",
            "\n"
          ]
        }
      ],
      "source": [
        "print(\"Attention model validation BLEU using beam search:\",\n",
        "      evaluate(attention_model, validation_data, method=\"beam\"))\n",
        "print()\n",
        "print(\"Attention model sample predictions:\")\n",
        "print()\n",
        "show_predictions(attention_model, include_beam=True)"
      ]
    },
    {
      "cell_type": "markdown",
      "metadata": {
        "id": "EEQlwh2qELmY"
      },
      "source": [
        "## Attention visualization: 1-Page Analysis"
      ]
    },
    {
      "cell_type": "markdown",
      "metadata": {
        "id": "edKLVL35EN7X"
      },
      "source": [
        "Once you have everything working in the sections above, add some code here to visualize the decoder attention learned by the attention model using `matplotlib`.\n",
        "\n",
        "You may visualize decoder attention on gold source-target pairs from the validation data. You do not need to run any inference.\n",
        "\n",
        "For this section, you will submit a write-up interpreting attention maps generated by your model. Your write-up should be 1-page maximum in length and should be submitted in PDF format. You may use any editor you like, but we recommend using LaTeX and working in an environment like Overleaf. For full credit, your write-up should include:\n",
        "\n",
        "* A figure with attention map plots for 4 sentence pairs from the validation set (the method `imshow`, or equivalent, will likely be useful here). We encourage you to look through more maps to aid your analysis, but please only include 4 representative plots in the figure. \n",
        "* A brief discussion over trends you discover in the plots. Do the maps line up with your intuition, are there any surprising alignments? Are there any many-to-one or many-to-many alignments, or mainly one-to-one? Using a tool like Google Translate on substrings may help give some insight into this.\n",
        "\n",
        "When you submit the file, please name it report.pdf."
      ]
    },
    {
      "cell_type": "code",
      "execution_count": 125,
      "metadata": {
        "execution": {
          "iopub.execute_input": "2022-02-11T17:18:40.888307Z",
          "iopub.status.busy": "2022-02-11T17:18:40.888045Z",
          "iopub.status.idle": "2022-02-11T17:18:45.550017Z",
          "shell.execute_reply": "2022-02-11T17:18:45.549323Z",
          "shell.execute_reply.started": "2022-02-11T17:18:40.88828Z"
        },
        "id": "Ok-26cAK7vry",
        "trusted": true
      },
      "outputs": [
        {
          "data": {
            "image/png": "[encoded data removed]",
            "text/plain": [
              "<Figure size 500x500 with 1 Axes>"
            ]
          },
          "metadata": {},
          "output_type": "display_data"
        },
        {
          "data": {
            "image/png": "[encoded data removed]",
            "text/plain": [
              "<Figure size 500x500 with 1 Axes>"
            ]
          },
          "metadata": {},
          "output_type": "display_data"
        },
        {
          "data": {
            "image/png": "[encoded data removed]",
            "text/plain": [
              "<Figure size 500x500 with 1 Axes>"
            ]
          },
          "metadata": {},
          "output_type": "display_data"
        },
        {
          "data": {
            "image/png": "[encoded data removed]",
            "text/plain": [
              "<Figure size 500x500 with 1 Axes>"
            ]
          },
          "metadata": {},
          "output_type": "display_data"
        }
      ],
      "source": [
        "# You may find the following annotated heatmap tutorial helpful:\n",
        "# https://matplotlib.org/3.1.3/gallery/images_contours_and_fields/image_annotated_heatmap.html.\n",
        "\n",
        "# BEGIN SOLUTION\n",
        "\n",
        "def plot_attention(source, target, attention):\n",
        "    source = [\"<s>\"] + vocab.EncodeAsPieces(source) + [\"</s>\"]\n",
        "    target = vocab.EncodeAsPieces(target) + [\"</s>\"]\n",
        "    attention = attention[:len(target), :len(source)]\n",
        "\n",
        "    _, ax = plt.subplots(figsize=(5, 5))\n",
        "    ax.imshow(attention)\n",
        "\n",
        "    ax.set_xlabel(\"Source\")\n",
        "    ax.set_ylabel(\"Target\")\n",
        "    ax.set_xticks(np.arange(len(source)))\n",
        "    ax.set_yticks(np.arange(len(target)))\n",
        "    ax.set_xticklabels(source)\n",
        "    ax.set_yticklabels(target)\n",
        "    plt.setp(\n",
        "        ax.get_xticklabels(), rotation=45, ha=\"right\", rotation_mode=\"anchor\"\n",
        "    )\n",
        "\n",
        "sources = [x.src for x in validation_data[:4]]\n",
        "targets = [x.trg for x in validation_data[:4]]\n",
        "\n",
        "encoder_output, encoder_mask, hidden = attention_model.encode(make_batch(sources))\n",
        "_, _, attention_weights = attention_model.decode(\n",
        "    make_batch(targets)[:-1, :], hidden, encoder_output, encoder_mask\n",
        ")\n",
        "\n",
        "attention_weights = attention_weights.detach().cpu().numpy()\n",
        "\n",
        "for i in range(attention_weights.shape[1]):\n",
        "    plot_attention(sources[i], targets[i], attention_weights[:, i, :])\n",
        "\n",
        "# END SOLUTION"
      ]
    },
    {
      "attachments": {},
      "cell_type": "markdown",
      "metadata": {},
      "source": [
        "The code below will generate the required predictions file for submission.  **Note** that it is designed to create the file even if some required elements are missing so that you can submit for partial credit.  If you want full credit, you should check the output to make sure there are no warnings indicating missing portions."
      ]
    },
    {
      "cell_type": "code",
      "execution_count": 126,
      "metadata": {},
      "outputs": [
        {
          "name": "stdout",
          "output_type": "stream",
          "text": [
            "Getting predictions for baseline model on validation set using greedy search...\n",
            "Getting predictions for baseline model on validation set using beam search...\n",
            "Getting predictions for baseline model on test set using greedy search...\n",
            "Getting predictions for baseline model on test set using beam search...\n",
            "Getting predictions for attention model on validation set using greedy search...\n",
            "Getting predictions for attention model on validation set using beam search...\n",
            "Getting predictions for attention model on test set using greedy search...\n",
            "Getting predictions for attention model on test set using beam search...\n",
            "Writing predictions to predictions.json...\n",
            "Finished writing predictions to predictions.json.\n"
          ]
        }
      ],
      "source": [
        "# Run this cell to generate the predictions.json file required for submission.\n",
        "\n",
        "def get_raw_predictions(model, dataset, method, batch_size=64):\n",
        "    assert method in {\"greedy\", \"beam\"}\n",
        "    source_sentences = [example.src for example in dataset]\n",
        "\n",
        "    model.eval()\n",
        "    predictions = []\n",
        "    with torch.no_grad():\n",
        "        for start_index in range(0, len(source_sentences), batch_size):\n",
        "            if method == \"greedy\":\n",
        "                prediction_batch = predict_greedy(\n",
        "                    model, source_sentences[start_index:start_index + batch_size])\n",
        "            else:\n",
        "                prediction_batch = predict_beam(\n",
        "                    model, source_sentences[start_index:start_index + batch_size])\n",
        "            predictions.extend(prediction_batch)\n",
        "    return predictions\n",
        "\n",
        "def generate_predictions_file_for_submission(filepath):\n",
        "    models = {\"baseline\": baseline_model, \"attention\": attention_model}\n",
        "    datasets = {\"validation\": validation_data, \"test\": test_data}\n",
        "    methods = [\"greedy\", \"beam\"]\n",
        "    predictions = {}\n",
        "    for model_name, model in models.items():\n",
        "        for dataset_name, dataset in datasets.items():\n",
        "            for method in methods:\n",
        "                print(\n",
        "                    \"Getting predictions for {} model on {} set using {} \"\n",
        "                    \"search...\".format(model_name, dataset_name, method))\n",
        "                if model_name not in predictions:\n",
        "                    predictions[model_name] = {}\n",
        "                if dataset_name not in predictions[model_name]:\n",
        "                    predictions[model_name][dataset_name] = {}\n",
        "                try:\n",
        "                    predictions[model_name][dataset_name][method] = get_raw_predictions(\n",
        "                        model, dataset, method)\n",
        "                except:\n",
        "                    print(\"!!! WARNING: An exception was raised, setting predictions to None !!!\")\n",
        "                    predictions[model_name][dataset_name][method] = None\n",
        "    print(\"Writing predictions to {}...\".format(filepath))\n",
        "    with open(filepath, \"w\") as outfile:\n",
        "        json.dump(predictions, outfile, indent=2)\n",
        "    print(\"Finished writing predictions to {}.\".format(filepath))\n",
        "\n",
        "generate_predictions_file_for_submission(\"./saves/predictions.json\")"
      ]
    },
    {
      "cell_type": "markdown",
      "metadata": {
        "id": "kotdLszxHWWJ"
      },
      "source": [
        "## Submission"
      ]
    },
    {
      "attachments": {},
      "cell_type": "markdown",
      "metadata": {
        "id": "-onu93vgG2-U"
      },
      "source": [
        "Turn in the following files on Gradescope:\n",
        "* hw2b.ipynb (this file; please rename to match)\n",
        "* predictions.json\n",
        "* report.pdf\n",
        "\n",
        "Be sure to check the output of the autograder after it runs.  It should confirm that no files are missing and that the output files have the correct format."
      ]
    }
  ],
  "metadata": {
    "colab": {
      "provenance": []
    },
    "kernelspec": {
      "display_name": "Python 3.8.16 ('nlp')",
      "language": "python",
      "name": "python3"
    },
    "language_info": {
      "codemirror_mode": {
        "name": "ipython",
        "version": 3
      },
      "file_extension": ".py",
      "mimetype": "text/x-python",
      "name": "python",
      "nbconvert_exporter": "python",
      "pygments_lexer": "ipython3",
      "version": "3.8.16"
    },
    "vscode": {
      "interpreter": {
        "hash": "154abf72fb8cc0db1aa0e7366557ff891bff86d6d75b7e5f2e68a066d591bfd7"
      }
    }
  },
  "nbformat": 4,
  "nbformat_minor": 0
}
